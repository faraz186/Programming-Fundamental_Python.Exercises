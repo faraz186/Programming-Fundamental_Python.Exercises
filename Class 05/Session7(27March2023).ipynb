{
 "cells": [
  {
   "cell_type": "code",
   "execution_count": 59,
   "id": "12b42bc6",
   "metadata": {},
   "outputs": [],
   "source": [
    "albums = {}\n",
    " \n",
    "serial= 0 \n",
    "def make_album(artist_name, album_title):\n",
    "    global serial\n",
    "    serial +=1\n",
    "    album = {f\"singer{serial}\":artist_name,f\"ablum{serial}\":album_title}\n",
    "    albums.update(album)\n",
    "    "
   ]
  },
  {
   "cell_type": "code",
   "execution_count": 60,
   "id": "596550aa",
   "metadata": {},
   "outputs": [],
   "source": [
    "make_album(\"Nasir\", \"myalbum\")"
   ]
  },
  {
   "cell_type": "code",
   "execution_count": 61,
   "id": "a62647b1",
   "metadata": {},
   "outputs": [],
   "source": [
    "make_album(\"Hassan\", \"hassanalbum\")"
   ]
  },
  {
   "cell_type": "code",
   "execution_count": 62,
   "id": "ecc58777",
   "metadata": {},
   "outputs": [
    {
     "data": {
      "text/plain": [
       "{'singer1': 'Nasir',\n",
       " 'ablum1': 'myalbum',\n",
       " 'singer2': 'Hassan',\n",
       " 'ablum2': 'hassanalbum'}"
      ]
     },
     "execution_count": 62,
     "metadata": {},
     "output_type": "execute_result"
    }
   ],
   "source": [
    "albums"
   ]
  },
  {
   "cell_type": "markdown",
   "id": "66b070f9",
   "metadata": {},
   "source": [
    "# Passing an arbitrary number of arguments"
   ]
  },
  {
   "cell_type": "code",
   "execution_count": 63,
   "id": "c33e7fc0",
   "metadata": {},
   "outputs": [],
   "source": [
    "def myfunct():\n",
    "    print(\"Hello\")"
   ]
  },
  {
   "cell_type": "code",
   "execution_count": 64,
   "id": "39ae0f2d",
   "metadata": {},
   "outputs": [],
   "source": [
    "def myfunct(name):\n",
    "    print(f\"Hello {name}\")"
   ]
  },
  {
   "cell_type": "code",
   "execution_count": 65,
   "id": "ae322d81",
   "metadata": {},
   "outputs": [
    {
     "name": "stdout",
     "output_type": "stream",
     "text": [
      "Hello Nasir\n"
     ]
    }
   ],
   "source": [
    "myfunct('Nasir')"
   ]
  },
  {
   "cell_type": "code",
   "execution_count": 66,
   "id": "6eaa0211",
   "metadata": {},
   "outputs": [
    {
     "ename": "TypeError",
     "evalue": "myfunct() missing 1 required positional argument: 'name'",
     "output_type": "error",
     "traceback": [
      "\u001b[1;31m---------------------------------------------------------------------------\u001b[0m",
      "\u001b[1;31mTypeError\u001b[0m                                 Traceback (most recent call last)",
      "\u001b[1;32m<ipython-input-66-203812449e8d>\u001b[0m in \u001b[0;36m<module>\u001b[1;34m\u001b[0m\n\u001b[1;32m----> 1\u001b[1;33m \u001b[0mmyfunct\u001b[0m\u001b[1;33m(\u001b[0m\u001b[1;33m)\u001b[0m\u001b[1;33m\u001b[0m\u001b[1;33m\u001b[0m\u001b[0m\n\u001b[0m",
      "\u001b[1;31mTypeError\u001b[0m: myfunct() missing 1 required positional argument: 'name'"
     ]
    }
   ],
   "source": [
    "myfunct()"
   ]
  },
  {
   "cell_type": "code",
   "execution_count": 80,
   "id": "62cb812f",
   "metadata": {},
   "outputs": [],
   "source": [
    "def orderPizza(size, *toppings):\n",
    "    toppings_avialable = ['mushrrom', 'olive','chhesse', 'garlic','capchica']\n",
    "    applied_toppings=[]\n",
    "    for top in toppings:\n",
    "        if top not in toppings_avialable:\n",
    "            print(f\"{top} is not availale\")\n",
    "        else:\n",
    "            applied_toppings.append(top)\n",
    "            \n",
    "    return f\"Your {size} inches pizza is ready with {applied_toppings}\"\n",
    "    \n",
    "    "
   ]
  },
  {
   "cell_type": "code",
   "execution_count": 81,
   "id": "49610cc1",
   "metadata": {},
   "outputs": [
    {
     "name": "stdout",
     "output_type": "stream",
     "text": [
      "Jalapino is not availale\n"
     ]
    },
    {
     "data": {
      "text/plain": [
       "\"Your 16 inches pizza is ready with ['mushrrom', 'olive', 'chhesse']\""
      ]
     },
     "execution_count": 81,
     "metadata": {},
     "output_type": "execute_result"
    }
   ],
   "source": [
    "orderPizza(16, 'mushroom', 'olive','chhesse', \"Jalapino\")"
   ]
  },
  {
   "cell_type": "code",
   "execution_count": 83,
   "id": "9dae2dbe",
   "metadata": {},
   "outputs": [],
   "source": [
    "def build_profile(first, last, **user_info):\n",
    "    profile = {}\n",
    "    profile['first_name'] = first\n",
    "    profile['last_name'] = last\n",
    "    for key, value in user_info.items():\n",
    "        profile[key] = value\n",
    "    return profile  "
   ]
  },
  {
   "cell_type": "code",
   "execution_count": 84,
   "id": "78b54ba6",
   "metadata": {},
   "outputs": [
    {
     "name": "stdout",
     "output_type": "stream",
     "text": [
      "{'first_name': 'albert', 'last_name': 'einstein', 'location': 'princeton', 'field': 'physics'}\n"
     ]
    }
   ],
   "source": [
    "user_profile = build_profile('albert','einstein',location='princeton',field='physics')\n",
    "print(user_profile)"
   ]
  },
  {
   "cell_type": "code",
   "execution_count": 87,
   "id": "50a01ac8",
   "metadata": {},
   "outputs": [],
   "source": [
    "def build_profile(first, last, **user_info):\n",
    "\n",
    "    profile = {}\n",
    "    profile['first_name'] = first\n",
    "    profile['last_name'] = last\n",
    "    profile.update(user_info)\n",
    "    return profile\n",
    "    "
   ]
  },
  {
   "cell_type": "code",
   "execution_count": 88,
   "id": "039e13ec",
   "metadata": {},
   "outputs": [
    {
     "name": "stdout",
     "output_type": "stream",
     "text": [
      "{'first_name': 'albert', 'last_name': 'einstein', 'location': 'princeton', 'field': 'physics'}\n"
     ]
    }
   ],
   "source": [
    "user_profile = build_profile('albert','einstein',location='princeton',field='physics')\n",
    "print(user_profile)"
   ]
  },
  {
   "cell_type": "code",
   "execution_count": null,
   "id": "0c53fe09",
   "metadata": {},
   "outputs": [],
   "source": []
  }
 ],
 "metadata": {
  "kernelspec": {
   "display_name": "Python 3",
   "language": "python",
   "name": "python3"
  },
  "language_info": {
   "codemirror_mode": {
    "name": "ipython",
    "version": 3
   },
   "file_extension": ".py",
   "mimetype": "text/x-python",
   "name": "python",
   "nbconvert_exporter": "python",
   "pygments_lexer": "ipython3",
   "version": "3.7.4"
  }
 },
 "nbformat": 4,
 "nbformat_minor": 5
}
