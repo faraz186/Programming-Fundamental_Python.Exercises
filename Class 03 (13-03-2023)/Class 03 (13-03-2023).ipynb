{
 "cells": [
  {
   "cell_type": "markdown",
   "id": "47fe2e1b",
   "metadata": {},
   "source": [
    "# list Methods"
   ]
  },
  {
   "cell_type": "code",
   "execution_count": 1,
   "id": "af9b0a76",
   "metadata": {},
   "outputs": [],
   "source": [
    "lists = [\"Faraz\",15,True,\"Ahmed\"]"
   ]
  },
  {
   "cell_type": "code",
   "execution_count": 2,
   "id": "ccdc64ec",
   "metadata": {},
   "outputs": [
    {
     "data": {
      "text/plain": [
       "['Faraz', 15, True, 'Ahmed']"
      ]
     },
     "execution_count": 2,
     "metadata": {},
     "output_type": "execute_result"
    }
   ],
   "source": [
    "lists"
   ]
  },
  {
   "cell_type": "code",
   "execution_count": 3,
   "id": "3dbf79a3",
   "metadata": {},
   "outputs": [],
   "source": [
    "lists.append(\"ALI\")"
   ]
  },
  {
   "cell_type": "code",
   "execution_count": 4,
   "id": "8cf1a0fa",
   "metadata": {},
   "outputs": [
    {
     "data": {
      "text/plain": [
       "['Faraz', 15, True, 'Ahmed', 'ALI']"
      ]
     },
     "execution_count": 4,
     "metadata": {},
     "output_type": "execute_result"
    }
   ],
   "source": [
    "lists"
   ]
  },
  {
   "cell_type": "code",
   "execution_count": 7,
   "id": "f345679e",
   "metadata": {},
   "outputs": [],
   "source": [
    "lists.extend([1,3,5])"
   ]
  },
  {
   "cell_type": "code",
   "execution_count": 8,
   "id": "09f310c0",
   "metadata": {},
   "outputs": [
    {
     "data": {
      "text/plain": [
       "['Faraz', 15, True, 'Ahmed', 'ALI', 1, 3, 5]"
      ]
     },
     "execution_count": 8,
     "metadata": {},
     "output_type": "execute_result"
    }
   ],
   "source": [
    "lists"
   ]
  },
  {
   "cell_type": "code",
   "execution_count": 9,
   "id": "136f5160",
   "metadata": {},
   "outputs": [],
   "source": [
    "cars = []"
   ]
  },
  {
   "cell_type": "code",
   "execution_count": 10,
   "id": "328642c3",
   "metadata": {},
   "outputs": [],
   "source": [
    "cars.append(\"Civic\")"
   ]
  },
  {
   "cell_type": "code",
   "execution_count": 11,
   "id": "ed9efdf5",
   "metadata": {},
   "outputs": [
    {
     "data": {
      "text/plain": [
       "['Civic']"
      ]
     },
     "execution_count": 11,
     "metadata": {},
     "output_type": "execute_result"
    }
   ],
   "source": [
    "cars"
   ]
  },
  {
   "cell_type": "code",
   "execution_count": 12,
   "id": "811c279d",
   "metadata": {},
   "outputs": [],
   "source": [
    "cars.append([\"honda\",\"mehran\",\"alto\"])"
   ]
  },
  {
   "cell_type": "code",
   "execution_count": 13,
   "id": "bcbd07ab",
   "metadata": {},
   "outputs": [
    {
     "data": {
      "text/plain": [
       "['Civic', ['honda', 'mehran', 'alto']]"
      ]
     },
     "execution_count": 13,
     "metadata": {},
     "output_type": "execute_result"
    }
   ],
   "source": [
    "cars"
   ]
  },
  {
   "cell_type": "code",
   "execution_count": 14,
   "id": "4eb3ee61",
   "metadata": {},
   "outputs": [],
   "source": [
    "cars.append([[\"honda\",\"mehran\",\"alto\"]])"
   ]
  },
  {
   "cell_type": "code",
   "execution_count": 15,
   "id": "a383a50d",
   "metadata": {},
   "outputs": [
    {
     "data": {
      "text/plain": [
       "['Civic', ['honda', 'mehran', 'alto'], [['honda', 'mehran', 'alto']]]"
      ]
     },
     "execution_count": 15,
     "metadata": {},
     "output_type": "execute_result"
    }
   ],
   "source": [
    "cars"
   ]
  },
  {
   "cell_type": "code",
   "execution_count": 16,
   "id": "c0a3de93",
   "metadata": {},
   "outputs": [
    {
     "data": {
      "text/plain": [
       "3"
      ]
     },
     "execution_count": 16,
     "metadata": {},
     "output_type": "execute_result"
    }
   ],
   "source": [
    "len(cars)"
   ]
  },
  {
   "cell_type": "code",
   "execution_count": 17,
   "id": "661b98d2",
   "metadata": {},
   "outputs": [],
   "source": [
    "cars.insert(2,\"Parado\")"
   ]
  },
  {
   "cell_type": "code",
   "execution_count": 18,
   "id": "16e3935a",
   "metadata": {},
   "outputs": [
    {
     "data": {
      "text/plain": [
       "['Civic', ['honda', 'mehran', 'alto'], 'Parado', [['honda', 'mehran', 'alto']]]"
      ]
     },
     "execution_count": 18,
     "metadata": {},
     "output_type": "execute_result"
    }
   ],
   "source": [
    "cars"
   ]
  },
  {
   "cell_type": "code",
   "execution_count": 19,
   "id": "9065865b",
   "metadata": {},
   "outputs": [],
   "source": [
    "del cars[3]"
   ]
  },
  {
   "cell_type": "code",
   "execution_count": 20,
   "id": "0555ea5c",
   "metadata": {},
   "outputs": [
    {
     "data": {
      "text/plain": [
       "['Civic', ['honda', 'mehran', 'alto'], 'Parado']"
      ]
     },
     "execution_count": 20,
     "metadata": {},
     "output_type": "execute_result"
    }
   ],
   "source": [
    "cars"
   ]
  },
  {
   "cell_type": "code",
   "execution_count": 24,
   "id": "7f11a061",
   "metadata": {},
   "outputs": [],
   "source": [
    "cars.remove(\"Civic\")"
   ]
  },
  {
   "cell_type": "code",
   "execution_count": 25,
   "id": "7cf87122",
   "metadata": {},
   "outputs": [
    {
     "data": {
      "text/plain": [
       "[['honda', 'mehran', 'alto'], 'Parado']"
      ]
     },
     "execution_count": 25,
     "metadata": {},
     "output_type": "execute_result"
    }
   ],
   "source": [
    "cars"
   ]
  },
  {
   "cell_type": "code",
   "execution_count": 26,
   "id": "b3c797cf",
   "metadata": {},
   "outputs": [
    {
     "data": {
      "text/plain": [
       "['honda', 'mehran', 'alto']"
      ]
     },
     "execution_count": 26,
     "metadata": {},
     "output_type": "execute_result"
    }
   ],
   "source": [
    "cars.pop(0)"
   ]
  },
  {
   "cell_type": "code",
   "execution_count": 27,
   "id": "26b14589",
   "metadata": {},
   "outputs": [
    {
     "data": {
      "text/plain": [
       "['Parado']"
      ]
     },
     "execution_count": 27,
     "metadata": {},
     "output_type": "execute_result"
    }
   ],
   "source": [
    "cars"
   ]
  },
  {
   "cell_type": "code",
   "execution_count": 28,
   "id": "8527e425",
   "metadata": {},
   "outputs": [],
   "source": [
    "cars.append(12)"
   ]
  },
  {
   "cell_type": "code",
   "execution_count": 29,
   "id": "453eec03",
   "metadata": {},
   "outputs": [
    {
     "data": {
      "text/plain": [
       "['Parado', 12]"
      ]
     },
     "execution_count": 29,
     "metadata": {},
     "output_type": "execute_result"
    }
   ],
   "source": [
    "cars"
   ]
  },
  {
   "cell_type": "code",
   "execution_count": 30,
   "id": "cf874417",
   "metadata": {},
   "outputs": [],
   "source": [
    "cars.remove(12)"
   ]
  },
  {
   "cell_type": "code",
   "execution_count": 31,
   "id": "09af4c10",
   "metadata": {},
   "outputs": [
    {
     "data": {
      "text/plain": [
       "['Parado']"
      ]
     },
     "execution_count": 31,
     "metadata": {},
     "output_type": "execute_result"
    }
   ],
   "source": [
    "cars"
   ]
  },
  {
   "cell_type": "code",
   "execution_count": 32,
   "id": "20ebca85",
   "metadata": {},
   "outputs": [],
   "source": [
    "cars[0] = 'parado'"
   ]
  },
  {
   "cell_type": "code",
   "execution_count": 33,
   "id": "76cf4765",
   "metadata": {},
   "outputs": [
    {
     "data": {
      "text/plain": [
       "['parado']"
      ]
     },
     "execution_count": 33,
     "metadata": {},
     "output_type": "execute_result"
    }
   ],
   "source": [
    "cars"
   ]
  },
  {
   "cell_type": "code",
   "execution_count": 39,
   "id": "ed8aa288",
   "metadata": {},
   "outputs": [
    {
     "data": {
      "text/plain": [
       "5"
      ]
     },
     "execution_count": 39,
     "metadata": {},
     "output_type": "execute_result"
    }
   ],
   "source": [
    "\"Mohammad Faraz\".find(\"m\",5)"
   ]
  },
  {
   "cell_type": "code",
   "execution_count": 41,
   "id": "d62956dd",
   "metadata": {},
   "outputs": [],
   "source": [
    "cars.append([\"faraz\",15,True])"
   ]
  },
  {
   "cell_type": "raw",
   "id": "e285a051",
   "metadata": {},
   "source": [
    "cars"
   ]
  },
  {
   "cell_type": "code",
   "execution_count": 42,
   "id": "0b634885",
   "metadata": {},
   "outputs": [
    {
     "data": {
      "text/plain": [
       "['parado', ['faraz', 15, True]]"
      ]
     },
     "execution_count": 42,
     "metadata": {},
     "output_type": "execute_result"
    }
   ],
   "source": [
    "cars"
   ]
  },
  {
   "cell_type": "code",
   "execution_count": 43,
   "id": "393a5c1d",
   "metadata": {},
   "outputs": [],
   "source": [
    "colors = [\"blue\",\"red\",\"green\",\"green\"]"
   ]
  },
  {
   "cell_type": "code",
   "execution_count": 46,
   "id": "0ab8ab2d",
   "metadata": {},
   "outputs": [],
   "source": [
    "index3 = colors[3]"
   ]
  },
  {
   "cell_type": "code",
   "execution_count": 47,
   "id": "902c5be5",
   "metadata": {},
   "outputs": [
    {
     "data": {
      "text/plain": [
       "'green'"
      ]
     },
     "execution_count": 47,
     "metadata": {},
     "output_type": "execute_result"
    }
   ],
   "source": [
    "index3"
   ]
  },
  {
   "cell_type": "code",
   "execution_count": 48,
   "id": "a198f83b",
   "metadata": {},
   "outputs": [
    {
     "data": {
      "text/plain": [
       "'red'"
      ]
     },
     "execution_count": 48,
     "metadata": {},
     "output_type": "execute_result"
    }
   ],
   "source": [
    "colors[-3]"
   ]
  },
  {
   "cell_type": "raw",
   "id": "f205e9db",
   "metadata": {},
   "source": [
    "# Slicing"
   ]
  },
  {
   "cell_type": "code",
   "execution_count": 49,
   "id": "3bc00869",
   "metadata": {},
   "outputs": [
    {
     "data": {
      "text/plain": [
       "['blue', 'red', 'green', 'green']"
      ]
     },
     "execution_count": 49,
     "metadata": {},
     "output_type": "execute_result"
    }
   ],
   "source": [
    "colors"
   ]
  },
  {
   "cell_type": "code",
   "execution_count": 50,
   "id": "3c23c87a",
   "metadata": {},
   "outputs": [
    {
     "data": {
      "text/plain": [
       "['blue', 'red', 'green']"
      ]
     },
     "execution_count": 50,
     "metadata": {},
     "output_type": "execute_result"
    }
   ],
   "source": [
    "colors[0:3]"
   ]
  },
  {
   "cell_type": "code",
   "execution_count": 51,
   "id": "aab06743",
   "metadata": {},
   "outputs": [
    {
     "data": {
      "text/plain": [
       "['red', 'green']"
      ]
     },
     "execution_count": 51,
     "metadata": {},
     "output_type": "execute_result"
    }
   ],
   "source": [
    "colors[1:-1]"
   ]
  },
  {
   "cell_type": "code",
   "execution_count": 52,
   "id": "eae5e3ff",
   "metadata": {},
   "outputs": [
    {
     "data": {
      "text/plain": [
       "['red']"
      ]
     },
     "execution_count": 52,
     "metadata": {},
     "output_type": "execute_result"
    }
   ],
   "source": [
    "colors[1:-2]"
   ]
  },
  {
   "cell_type": "code",
   "execution_count": 53,
   "id": "70280a22",
   "metadata": {},
   "outputs": [
    {
     "data": {
      "text/plain": [
       "[]"
      ]
     },
     "execution_count": 53,
     "metadata": {},
     "output_type": "execute_result"
    }
   ],
   "source": [
    "colors[-2:2]"
   ]
  },
  {
   "cell_type": "code",
   "execution_count": 56,
   "id": "dbac57e4",
   "metadata": {},
   "outputs": [],
   "source": [
    "copyList = colors.copy()\n",
    "\n",
    "# Copy by value"
   ]
  },
  {
   "cell_type": "code",
   "execution_count": 57,
   "id": "181a4ec7",
   "metadata": {},
   "outputs": [
    {
     "data": {
      "text/plain": [
       "['blue', 'red', 'green', 'green']"
      ]
     },
     "execution_count": 57,
     "metadata": {},
     "output_type": "execute_result"
    }
   ],
   "source": [
    "copyList"
   ]
  },
  {
   "cell_type": "code",
   "execution_count": 62,
   "id": "7c7693bf",
   "metadata": {},
   "outputs": [],
   "source": [
    "old_list = copyList\n",
    "\n",
    "# copy by reference"
   ]
  },
  {
   "cell_type": "code",
   "execution_count": 59,
   "id": "c288b507",
   "metadata": {},
   "outputs": [
    {
     "data": {
      "text/plain": [
       "['blue', 'red', 'green', 'green']"
      ]
     },
     "execution_count": 59,
     "metadata": {},
     "output_type": "execute_result"
    }
   ],
   "source": [
    "old_list"
   ]
  },
  {
   "cell_type": "code",
   "execution_count": 63,
   "id": "8b5ab2c9",
   "metadata": {},
   "outputs": [],
   "source": [
    "old_list.append(\"Pink\")"
   ]
  },
  {
   "cell_type": "code",
   "execution_count": 64,
   "id": "e4b8d680",
   "metadata": {},
   "outputs": [
    {
     "data": {
      "text/plain": [
       "['blue', 'red', 'green', 'green', 'Pink']"
      ]
     },
     "execution_count": 64,
     "metadata": {},
     "output_type": "execute_result"
    }
   ],
   "source": [
    "old_list"
   ]
  },
  {
   "cell_type": "code",
   "execution_count": 65,
   "id": "6888d17e",
   "metadata": {},
   "outputs": [
    {
     "data": {
      "text/plain": [
       "['blue', 'red', 'green', 'green', 'Pink']"
      ]
     },
     "execution_count": 65,
     "metadata": {},
     "output_type": "execute_result"
    }
   ],
   "source": [
    "copyList"
   ]
  },
  {
   "cell_type": "code",
   "execution_count": 66,
   "id": "fd7666c5",
   "metadata": {},
   "outputs": [
    {
     "data": {
      "text/plain": [
       "['blue', 'red', 'green', 'green']"
      ]
     },
     "execution_count": 66,
     "metadata": {},
     "output_type": "execute_result"
    }
   ],
   "source": [
    "colors[:]"
   ]
  },
  {
   "cell_type": "code",
   "execution_count": 67,
   "id": "ad0166a0",
   "metadata": {},
   "outputs": [],
   "source": [
    "colors.reverse()"
   ]
  },
  {
   "cell_type": "code",
   "execution_count": 68,
   "id": "15447241",
   "metadata": {},
   "outputs": [
    {
     "data": {
      "text/plain": [
       "['green', 'green', 'red', 'blue']"
      ]
     },
     "execution_count": 68,
     "metadata": {},
     "output_type": "execute_result"
    }
   ],
   "source": [
    "colors"
   ]
  },
  {
   "cell_type": "code",
   "execution_count": 69,
   "id": "aa935685",
   "metadata": {},
   "outputs": [
    {
     "data": {
      "text/plain": [
       "['blue', 'red', 'green', 'green']"
      ]
     },
     "execution_count": 69,
     "metadata": {},
     "output_type": "execute_result"
    }
   ],
   "source": [
    "colors[::-1]"
   ]
  },
  {
   "cell_type": "code",
   "execution_count": 70,
   "id": "ffc7bd56",
   "metadata": {},
   "outputs": [
    {
     "data": {
      "text/plain": [
       "['green', 'green', 'red', 'blue']"
      ]
     },
     "execution_count": 70,
     "metadata": {},
     "output_type": "execute_result"
    }
   ],
   "source": [
    "colors"
   ]
  },
  {
   "cell_type": "code",
   "execution_count": 72,
   "id": "0d035287",
   "metadata": {},
   "outputs": [
    {
     "data": {
      "text/plain": [
       "['red', 'green']"
      ]
     },
     "execution_count": 72,
     "metadata": {},
     "output_type": "execute_result"
    }
   ],
   "source": [
    "colors[-2:-4:-1]"
   ]
  },
  {
   "cell_type": "markdown",
   "id": "08facd16",
   "metadata": {},
   "source": [
    "# Tuples\n",
    "        ()\n",
    "        immutable"
   ]
  },
  {
   "cell_type": "code",
   "execution_count": 73,
   "id": "1fc9562d",
   "metadata": {},
   "outputs": [],
   "source": [
    "atuple = (1,2,3,4,5)"
   ]
  },
  {
   "cell_type": "code",
   "execution_count": 74,
   "id": "652e88a1",
   "metadata": {},
   "outputs": [
    {
     "data": {
      "text/plain": [
       "(1, 2, 3, 4, 5)"
      ]
     },
     "execution_count": 74,
     "metadata": {},
     "output_type": "execute_result"
    }
   ],
   "source": [
    "atuple"
   ]
  },
  {
   "cell_type": "code",
   "execution_count": 75,
   "id": "22ab98ca",
   "metadata": {},
   "outputs": [
    {
     "ename": "TypeError",
     "evalue": "'tuple' object does not support item assignment",
     "output_type": "error",
     "traceback": [
      "\u001b[1;31m---------------------------------------------------------------------------\u001b[0m",
      "\u001b[1;31mTypeError\u001b[0m                                 Traceback (most recent call last)",
      "Cell \u001b[1;32mIn[75], line 1\u001b[0m\n\u001b[1;32m----> 1\u001b[0m \u001b[43matuple\u001b[49m\u001b[43m[\u001b[49m\u001b[38;5;241;43m1\u001b[39;49m\u001b[43m]\u001b[49m \u001b[38;5;241m=\u001b[39m \u001b[38;5;241m100\u001b[39m\n",
      "\u001b[1;31mTypeError\u001b[0m: 'tuple' object does not support item assignment"
     ]
    }
   ],
   "source": [
    "atuple[1] = 100"
   ]
  },
  {
   "cell_type": "code",
   "execution_count": 76,
   "id": "dd3b9762",
   "metadata": {},
   "outputs": [
    {
     "data": {
      "text/plain": [
       "4"
      ]
     },
     "execution_count": 76,
     "metadata": {},
     "output_type": "execute_result"
    }
   ],
   "source": [
    "atuple[3]"
   ]
  },
  {
   "cell_type": "code",
   "execution_count": 78,
   "id": "61431a1e",
   "metadata": {},
   "outputs": [
    {
     "data": {
      "text/plain": [
       "1"
      ]
     },
     "execution_count": 78,
     "metadata": {},
     "output_type": "execute_result"
    }
   ],
   "source": [
    "atuple.count(2)"
   ]
  },
  {
   "cell_type": "code",
   "execution_count": 79,
   "id": "bc4471ee",
   "metadata": {},
   "outputs": [
    {
     "data": {
      "text/plain": [
       "3"
      ]
     },
     "execution_count": 79,
     "metadata": {},
     "output_type": "execute_result"
    }
   ],
   "source": [
    "atuple.index(4)"
   ]
  },
  {
   "cell_type": "markdown",
   "id": "4aebc417",
   "metadata": {},
   "source": [
    "# Packing and Unpacking"
   ]
  },
  {
   "cell_type": "code",
   "execution_count": 82,
   "id": "8bddd3f8",
   "metadata": {},
   "outputs": [],
   "source": [
    "items = [\"laptops\",\"keyboards\",\"Mics\"]\n",
    "\n",
    "# Packing Process"
   ]
  },
  {
   "cell_type": "code",
   "execution_count": 81,
   "id": "0c51050e",
   "metadata": {},
   "outputs": [
    {
     "data": {
      "text/plain": [
       "['laptops', 'keyboards', 'Mics']"
      ]
     },
     "execution_count": 81,
     "metadata": {},
     "output_type": "execute_result"
    }
   ],
   "source": [
    "items"
   ]
  },
  {
   "cell_type": "code",
   "execution_count": 83,
   "id": "0c177ec0",
   "metadata": {},
   "outputs": [],
   "source": [
    "l,k,m = items"
   ]
  },
  {
   "cell_type": "code",
   "execution_count": 84,
   "id": "a17e2caa",
   "metadata": {},
   "outputs": [
    {
     "data": {
      "text/plain": [
       "'keyboards'"
      ]
     },
     "execution_count": 84,
     "metadata": {},
     "output_type": "execute_result"
    }
   ],
   "source": [
    "k"
   ]
  },
  {
   "cell_type": "code",
   "execution_count": 85,
   "id": "e4b80c17",
   "metadata": {},
   "outputs": [
    {
     "data": {
      "text/plain": [
       "'Mics'"
      ]
     },
     "execution_count": 85,
     "metadata": {},
     "output_type": "execute_result"
    }
   ],
   "source": [
    "m"
   ]
  },
  {
   "cell_type": "code",
   "execution_count": 86,
   "id": "4bca88e8",
   "metadata": {},
   "outputs": [
    {
     "data": {
      "text/plain": [
       "'laptops'"
      ]
     },
     "execution_count": 86,
     "metadata": {},
     "output_type": "execute_result"
    }
   ],
   "source": [
    "l"
   ]
  },
  {
   "cell_type": "code",
   "execution_count": 87,
   "id": "18ad3697",
   "metadata": {},
   "outputs": [
    {
     "data": {
      "text/plain": [
       "['laptops', 'keyboards', 'Mics']"
      ]
     },
     "execution_count": 87,
     "metadata": {},
     "output_type": "execute_result"
    }
   ],
   "source": [
    "items"
   ]
  },
  {
   "cell_type": "code",
   "execution_count": 88,
   "id": "90246fce",
   "metadata": {},
   "outputs": [
    {
     "data": {
      "text/plain": [
       "list"
      ]
     },
     "execution_count": 88,
     "metadata": {},
     "output_type": "execute_result"
    }
   ],
   "source": [
    "type(items)"
   ]
  },
  {
   "cell_type": "code",
   "execution_count": 89,
   "id": "6cee1d3b",
   "metadata": {},
   "outputs": [],
   "source": [
    "new_tuple = 12,13,14,15"
   ]
  },
  {
   "cell_type": "code",
   "execution_count": 90,
   "id": "2a89996e",
   "metadata": {},
   "outputs": [
    {
     "data": {
      "text/plain": [
       "(12, 13, 14, 15)"
      ]
     },
     "execution_count": 90,
     "metadata": {},
     "output_type": "execute_result"
    }
   ],
   "source": [
    "new_tuple"
   ]
  },
  {
   "cell_type": "code",
   "execution_count": 91,
   "id": "fc757ba2",
   "metadata": {},
   "outputs": [
    {
     "data": {
      "text/plain": [
       "tuple"
      ]
     },
     "execution_count": 91,
     "metadata": {},
     "output_type": "execute_result"
    }
   ],
   "source": [
    "type(new_tuple)"
   ]
  },
  {
   "cell_type": "code",
   "execution_count": 93,
   "id": "7e5775d9",
   "metadata": {},
   "outputs": [],
   "source": [
    "ali,faisal,unknown,unknown1 = new_tuple"
   ]
  },
  {
   "cell_type": "code",
   "execution_count": 94,
   "id": "af9e46b4",
   "metadata": {},
   "outputs": [
    {
     "data": {
      "text/plain": [
       "13"
      ]
     },
     "execution_count": 94,
     "metadata": {},
     "output_type": "execute_result"
    }
   ],
   "source": [
    "faisal"
   ]
  },
  {
   "cell_type": "code",
   "execution_count": 95,
   "id": "13848e1d",
   "metadata": {},
   "outputs": [
    {
     "data": {
      "text/plain": [
       "int"
      ]
     },
     "execution_count": 95,
     "metadata": {},
     "output_type": "execute_result"
    }
   ],
   "source": [
    "type(faisal)"
   ]
  },
  {
   "cell_type": "code",
   "execution_count": 96,
   "id": "3d0c7506",
   "metadata": {},
   "outputs": [
    {
     "data": {
      "text/plain": [
       "str"
      ]
     },
     "execution_count": 96,
     "metadata": {},
     "output_type": "execute_result"
    }
   ],
   "source": [
    "type(l)"
   ]
  },
  {
   "cell_type": "markdown",
   "id": "7b77a64f",
   "metadata": {},
   "source": [
    "# Dictionaries\n",
    "        {}"
   ]
  },
  {
   "cell_type": "code",
   "execution_count": 97,
   "id": "11a6aeff",
   "metadata": {},
   "outputs": [],
   "source": [
    "student1 = {\"name\":\"Faraz\",\"rollNo\":\"2020-186\",\"Course\":\"AI\"}"
   ]
  },
  {
   "cell_type": "code",
   "execution_count": 98,
   "id": "1d845867",
   "metadata": {},
   "outputs": [
    {
     "data": {
      "text/plain": [
       "{'name': 'Faraz', 'rollNo': '2020-186', 'Course': 'AI'}"
      ]
     },
     "execution_count": 98,
     "metadata": {},
     "output_type": "execute_result"
    }
   ],
   "source": [
    "student1"
   ]
  },
  {
   "cell_type": "code",
   "execution_count": 101,
   "id": "7fa9bfa7",
   "metadata": {},
   "outputs": [
    {
     "data": {
      "text/plain": [
       "'2020-186'"
      ]
     },
     "execution_count": 101,
     "metadata": {},
     "output_type": "execute_result"
    }
   ],
   "source": [
    "student1[\"rollNo\"]"
   ]
  },
  {
   "cell_type": "code",
   "execution_count": 106,
   "id": "f63aaa97",
   "metadata": {},
   "outputs": [],
   "source": [
    "student1[\"rollNo\"] = \"2023-186\""
   ]
  },
  {
   "cell_type": "code",
   "execution_count": 107,
   "id": "db74b955",
   "metadata": {},
   "outputs": [
    {
     "data": {
      "text/plain": [
       "{'name': 'Faraz', 'rollNo': '2023-186', 'Course': 'AI'}"
      ]
     },
     "execution_count": 107,
     "metadata": {},
     "output_type": "execute_result"
    }
   ],
   "source": [
    "student1"
   ]
  },
  {
   "cell_type": "code",
   "execution_count": 108,
   "id": "d81874b8",
   "metadata": {},
   "outputs": [],
   "source": [
    "student1[\"email\"] = \"faraz@gmail.com\""
   ]
  },
  {
   "cell_type": "code",
   "execution_count": 109,
   "id": "09d57bcc",
   "metadata": {},
   "outputs": [
    {
     "data": {
      "text/plain": [
       "{'name': 'Faraz',\n",
       " 'rollNo': '2023-186',\n",
       " 'Course': 'AI',\n",
       " 'email': 'faraz@gmail.com'}"
      ]
     },
     "execution_count": 109,
     "metadata": {},
     "output_type": "execute_result"
    }
   ],
   "source": [
    "student1"
   ]
  },
  {
   "cell_type": "code",
   "execution_count": 110,
   "id": "2e789522",
   "metadata": {},
   "outputs": [
    {
     "data": {
      "text/plain": [
       "dict"
      ]
     },
     "execution_count": 110,
     "metadata": {},
     "output_type": "execute_result"
    }
   ],
   "source": [
    "type(student1)"
   ]
  },
  {
   "cell_type": "code",
   "execution_count": 111,
   "id": "db88045a",
   "metadata": {},
   "outputs": [],
   "source": [
    "del student1[\"rollNo\"]"
   ]
  },
  {
   "cell_type": "code",
   "execution_count": 112,
   "id": "45222226",
   "metadata": {},
   "outputs": [
    {
     "data": {
      "text/plain": [
       "{'name': 'Faraz', 'Course': 'AI', 'email': 'faraz@gmail.com'}"
      ]
     },
     "execution_count": 112,
     "metadata": {},
     "output_type": "execute_result"
    }
   ],
   "source": [
    "student1"
   ]
  },
  {
   "cell_type": "code",
   "execution_count": 113,
   "id": "31faa625",
   "metadata": {},
   "outputs": [
    {
     "data": {
      "text/plain": [
       "'Faraz'"
      ]
     },
     "execution_count": 113,
     "metadata": {},
     "output_type": "execute_result"
    }
   ],
   "source": [
    "student1.get(\"name\")"
   ]
  },
  {
   "cell_type": "code",
   "execution_count": 114,
   "id": "43d268f3",
   "metadata": {},
   "outputs": [
    {
     "data": {
      "text/plain": [
       "dict_keys(['name', 'Course', 'email'])"
      ]
     },
     "execution_count": 114,
     "metadata": {},
     "output_type": "execute_result"
    }
   ],
   "source": [
    "student1.keys()"
   ]
  },
  {
   "cell_type": "code",
   "execution_count": 115,
   "id": "baf93b33",
   "metadata": {},
   "outputs": [
    {
     "data": {
      "text/plain": [
       "dict_values(['Faraz', 'AI', 'faraz@gmail.com'])"
      ]
     },
     "execution_count": 115,
     "metadata": {},
     "output_type": "execute_result"
    }
   ],
   "source": [
    "student1.values()"
   ]
  },
  {
   "cell_type": "code",
   "execution_count": 116,
   "id": "9e73a8d2",
   "metadata": {},
   "outputs": [
    {
     "data": {
      "text/plain": [
       "dict_items([('name', 'Faraz'), ('Course', 'AI'), ('email', 'faraz@gmail.com')])"
      ]
     },
     "execution_count": 116,
     "metadata": {},
     "output_type": "execute_result"
    }
   ],
   "source": [
    "student1.items()"
   ]
  },
  {
   "cell_type": "code",
   "execution_count": 117,
   "id": "d5c7ad18",
   "metadata": {},
   "outputs": [
    {
     "data": {
      "text/plain": [
       "'faraz@gmail.com'"
      ]
     },
     "execution_count": 117,
     "metadata": {},
     "output_type": "execute_result"
    }
   ],
   "source": [
    "student1.pop(\"email\")"
   ]
  },
  {
   "cell_type": "code",
   "execution_count": 118,
   "id": "45aaaa5d",
   "metadata": {},
   "outputs": [
    {
     "data": {
      "text/plain": [
       "{'name': 'Faraz', 'Course': 'AI'}"
      ]
     },
     "execution_count": 118,
     "metadata": {},
     "output_type": "execute_result"
    }
   ],
   "source": [
    "student1"
   ]
  },
  {
   "cell_type": "code",
   "execution_count": 120,
   "id": "96223553",
   "metadata": {},
   "outputs": [
    {
     "data": {
      "text/plain": [
       "('Course', 'AI')"
      ]
     },
     "execution_count": 120,
     "metadata": {},
     "output_type": "execute_result"
    }
   ],
   "source": [
    "student1.popitem()"
   ]
  },
  {
   "cell_type": "code",
   "execution_count": 122,
   "id": "335b5298",
   "metadata": {},
   "outputs": [],
   "source": [
    "student1.update({\"email\":\"faraz@gmail.com\",\"age\":22})"
   ]
  },
  {
   "cell_type": "code",
   "execution_count": 123,
   "id": "92b7f19a",
   "metadata": {},
   "outputs": [
    {
     "data": {
      "text/plain": [
       "{'name': 'Faraz', 'email': 'faraz@gmail.com', 'age': 22}"
      ]
     },
     "execution_count": 123,
     "metadata": {},
     "output_type": "execute_result"
    }
   ],
   "source": [
    "student1"
   ]
  },
  {
   "cell_type": "code",
   "execution_count": 127,
   "id": "636b307b",
   "metadata": {},
   "outputs": [
    {
     "data": {
      "text/plain": [
       "{'name': None, 'rollNo': None}"
      ]
     },
     "execution_count": 127,
     "metadata": {},
     "output_type": "execute_result"
    }
   ],
   "source": [
    "student1.fromkeys([\"name\",\"rollNo\"])"
   ]
  },
  {
   "cell_type": "code",
   "execution_count": 129,
   "id": "a2f04fc6",
   "metadata": {},
   "outputs": [],
   "source": [
    "students = {\"name\":[\"asad\",\"affan\",\"faraz\"],\"rollNo\":[25,63,47],\"Course\":[\"AI\",\"DS\",\"ioT\"]}"
   ]
  },
  {
   "cell_type": "code",
   "execution_count": 130,
   "id": "b56cac90",
   "metadata": {},
   "outputs": [
    {
     "data": {
      "text/plain": [
       "{'name': ['asad', 'affan', 'faraz'],\n",
       " 'rollNo': [25, 63, 47],\n",
       " 'Course': ['AI', 'DS', 'ioT']}"
      ]
     },
     "execution_count": 130,
     "metadata": {},
     "output_type": "execute_result"
    }
   ],
   "source": [
    "students"
   ]
  },
  {
   "cell_type": "code",
   "execution_count": 131,
   "id": "6cb56f71",
   "metadata": {},
   "outputs": [
    {
     "data": {
      "text/plain": [
       "True"
      ]
     },
     "execution_count": 131,
     "metadata": {},
     "output_type": "execute_result"
    }
   ],
   "source": [
    "\"asad\" in students[\"name\"]"
   ]
  },
  {
   "cell_type": "code",
   "execution_count": 132,
   "id": "b22c59e0",
   "metadata": {},
   "outputs": [
    {
     "data": {
      "text/plain": [
       "25"
      ]
     },
     "execution_count": 132,
     "metadata": {},
     "output_type": "execute_result"
    }
   ],
   "source": [
    "students[\"rollNo\"][0]"
   ]
  },
  {
   "cell_type": "markdown",
   "id": "fab121f6",
   "metadata": {},
   "source": [
    "# Set\n",
    "    {}"
   ]
  },
  {
   "cell_type": "code",
   "execution_count": 133,
   "id": "fbf03617",
   "metadata": {},
   "outputs": [],
   "source": [
    "data = {}"
   ]
  },
  {
   "cell_type": "code",
   "execution_count": 134,
   "id": "81dfe3e2",
   "metadata": {},
   "outputs": [
    {
     "data": {
      "text/plain": [
       "dict"
      ]
     },
     "execution_count": 134,
     "metadata": {},
     "output_type": "execute_result"
    }
   ],
   "source": [
    "type(data)"
   ]
  },
  {
   "cell_type": "code",
   "execution_count": 135,
   "id": "220c5b71",
   "metadata": {},
   "outputs": [],
   "source": [
    "data = {15}"
   ]
  },
  {
   "cell_type": "code",
   "execution_count": 136,
   "id": "0113edc7",
   "metadata": {},
   "outputs": [
    {
     "data": {
      "text/plain": [
       "set"
      ]
     },
     "execution_count": 136,
     "metadata": {},
     "output_type": "execute_result"
    }
   ],
   "source": [
    "type(data)"
   ]
  },
  {
   "cell_type": "code",
   "execution_count": 137,
   "id": "7ee43861",
   "metadata": {},
   "outputs": [],
   "source": [
    "Lists = [1,2,3,4,5,6,7,8,9,15,2,3,5]\n"
   ]
  },
  {
   "cell_type": "code",
   "execution_count": 138,
   "id": "557af888",
   "metadata": {},
   "outputs": [
    {
     "data": {
      "text/plain": [
       "{1, 2, 3, 4, 5, 6, 7, 8, 9, 15}"
      ]
     },
     "execution_count": 138,
     "metadata": {},
     "output_type": "execute_result"
    }
   ],
   "source": [
    "set(Lists)"
   ]
  },
  {
   "cell_type": "code",
   "execution_count": 139,
   "id": "be061532",
   "metadata": {},
   "outputs": [
    {
     "data": {
      "text/plain": [
       "[1, 2, 3, 4, 5, 6, 7, 8, 9, 15]"
      ]
     },
     "execution_count": 139,
     "metadata": {},
     "output_type": "execute_result"
    }
   ],
   "source": [
    "list(set(Lists))"
   ]
  },
  {
   "cell_type": "markdown",
   "id": "9e4231e9",
   "metadata": {},
   "source": [
    "# Conditionals\n",
    "    \n",
    "    If Clause\n",
    "    else Clause\n",
    "    elif Clause"
   ]
  },
  {
   "cell_type": "code",
   "execution_count": 148,
   "id": "ed9de782",
   "metadata": {},
   "outputs": [
    {
     "name": "stdout",
     "output_type": "stream",
     "text": [
      "Enter your age 22\n",
      " \n",
      " Adult\n"
     ]
    }
   ],
   "source": [
    "age = int(float(input(\"Enter your age \")))\n",
    "\n",
    "if(age > 60):\n",
    "    print(\" \\n Senior Citizen\");\n",
    "    \n",
    "elif(age > 20):\n",
    "    print(\" \\n Adult\")\n",
    "    \n",
    "else:\n",
    "    print(\" \\n teenager\")"
   ]
  },
  {
   "cell_type": "code",
   "execution_count": 151,
   "id": "e4b2510f",
   "metadata": {},
   "outputs": [
    {
     "name": "stdout",
     "output_type": "stream",
     "text": [
      "Ente your percentage68.9\n",
      "Congratulation Grade C\n"
     ]
    }
   ],
   "source": [
    "User_per = float(input(\"Ente your percentage\"))\n",
    "\n",
    "if(User_per > 90):\n",
    "    print(\"Congratualtion Grade A+\")\n",
    "\n",
    "elif(User_per > 80):\n",
    "    print(\"Congratulation Grade A\")\n",
    "    \n",
    "elif(User_per > 70):\n",
    "    print(\"Congratulation Grade B\")\n",
    "    \n",
    "elif(User_per > 60):\n",
    "    print(\"Congratulation Grade C\")  \n",
    "    \n",
    "else:\n",
    "    print(\"Failed....\")"
   ]
  },
  {
   "cell_type": "markdown",
   "id": "d59870c7",
   "metadata": {},
   "source": [
    "# Nested if "
   ]
  },
  {
   "cell_type": "code",
   "execution_count": null,
   "id": "548835c2",
   "metadata": {},
   "outputs": [],
   "source": []
  }
 ],
 "metadata": {
  "kernelspec": {
   "display_name": "Python 3 (ipykernel)",
   "language": "python",
   "name": "python3"
  },
  "language_info": {
   "codemirror_mode": {
    "name": "ipython",
    "version": 3
   },
   "file_extension": ".py",
   "mimetype": "text/x-python",
   "name": "python",
   "nbconvert_exporter": "python",
   "pygments_lexer": "ipython3",
   "version": "3.11.2"
  }
 },
 "nbformat": 4,
 "nbformat_minor": 5
}
