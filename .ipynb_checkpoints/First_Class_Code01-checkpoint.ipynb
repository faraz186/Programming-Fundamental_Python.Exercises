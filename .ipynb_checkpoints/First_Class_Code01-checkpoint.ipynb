{
 "cells": [
  {
   "cell_type": "markdown",
   "id": "0f1b611b",
   "metadata": {},
   "source": [
    "# Programming Fundamentals Using Python"
   ]
  },
  {
   "cell_type": "code",
   "execution_count": 1,
   "id": "a83ad7e8",
   "metadata": {},
   "outputs": [
    {
     "name": "stdout",
     "output_type": "stream",
     "text": [
      "Programming Fundamentals\n"
     ]
    }
   ],
   "source": [
    "print(\"Programming Fundamentals\")"
   ]
  },
  {
   "cell_type": "code",
   "execution_count": 3,
   "id": "77dad2bc",
   "metadata": {},
   "outputs": [
    {
     "name": "stdout",
     "output_type": "stream",
     "text": [
      "123\n"
     ]
    }
   ],
   "source": [
    "print(123)"
   ]
  },
  {
   "cell_type": "code",
   "execution_count": 4,
   "id": "0db11cbe",
   "metadata": {},
   "outputs": [
    {
     "name": "stdout",
     "output_type": "stream",
     "text": [
      "20.87\n"
     ]
    }
   ],
   "source": [
    "print(20.87)"
   ]
  },
  {
   "cell_type": "markdown",
   "id": "9ba15984",
   "metadata": {},
   "source": [
    "#  Value\n",
    "      - Text \n",
    "           string \"\"     > str\n",
    "      - Number \n",
    "           - Whole Number   > integers > int \n",
    "           - Decimal        > floats > flaot\n",
    "      - Boolean             > Boolean> bool"
   ]
  },
  {
   "cell_type": "code",
   "execution_count": 5,
   "id": "25efebeb",
   "metadata": {},
   "outputs": [
    {
     "name": "stdout",
     "output_type": "stream",
     "text": [
      "SMIT\n"
     ]
    }
   ],
   "source": [
    "print(\"SMIT\")"
   ]
  },
  {
   "cell_type": "code",
   "execution_count": 6,
   "id": "6f5b0653",
   "metadata": {},
   "outputs": [
    {
     "name": "stdout",
     "output_type": "stream",
     "text": [
      "True\n"
     ]
    }
   ],
   "source": [
    "print(True)"
   ]
  },
  {
   "cell_type": "code",
   "execution_count": 7,
   "id": "bad012d1",
   "metadata": {},
   "outputs": [
    {
     "name": "stdout",
     "output_type": "stream",
     "text": [
      "Faraz 3.85 True 28\n"
     ]
    }
   ],
   "source": [
    "print(\"Faraz\",3.85,True,28)"
   ]
  },
  {
   "cell_type": "code",
   "execution_count": 8,
   "id": "28ac3aca",
   "metadata": {},
   "outputs": [],
   "source": [
    "print?"
   ]
  },
  {
   "cell_type": "code",
   "execution_count": 9,
   "id": "21a85bf5",
   "metadata": {},
   "outputs": [
    {
     "name": "stdout",
     "output_type": "stream",
     "text": [
      "Faraz3.85True28\n"
     ]
    }
   ],
   "source": [
    "print(\"Faraz\",3.85,True,28,sep=\"\")"
   ]
  },
  {
   "cell_type": "code",
   "execution_count": 11,
   "id": "8fe653ed",
   "metadata": {},
   "outputs": [
    {
     "name": "stdout",
     "output_type": "stream",
     "text": [
      "Faraz--3.85--True--28\n"
     ]
    }
   ],
   "source": [
    "print(\"Faraz\",3.85,True,28,sep=\"--\")"
   ]
  },
  {
   "cell_type": "code",
   "execution_count": 14,
   "id": "bf50294f",
   "metadata": {},
   "outputs": [
    {
     "name": "stdout",
     "output_type": "stream",
     "text": [
      "Faraz3.85True28\t\t"
     ]
    }
   ],
   "source": [
    "print(\"Faraz\",3.85,True,28,sep=\"--\")"
   ]
  },
  {
   "cell_type": "code",
   "execution_count": 15,
   "id": "f23df003",
   "metadata": {},
   "outputs": [
    {
     "name": "stdout",
     "output_type": "stream",
     "text": [
      "Hello!! Welcome to First Class of Python. Start we are doing Programming fundamentals\n"
     ]
    }
   ],
   "source": [
    "print(\"Hello!! Welcome to First Class of Python. Start we are doing Programming fundamentals\")"
   ]
  },
  {
   "cell_type": "code",
   "execution_count": 16,
   "id": "d7838135",
   "metadata": {},
   "outputs": [
    {
     "name": "stdout",
     "output_type": "stream",
     "text": [
      "Hello!! Welcome to First Class of Python.\n",
      " Start we are doing Programming fundamentals\n"
     ]
    }
   ],
   "source": [
    "print(\"Hello!! Welcome to First Class of Python.\\n Start we are doing Programming fundamentals\")"
   ]
  },
  {
   "cell_type": "code",
   "execution_count": 17,
   "id": "7de75e7d",
   "metadata": {},
   "outputs": [
    {
     "name": "stdout",
     "output_type": "stream",
     "text": [
      "Hello!! Welcome to 'First Class' of Python.\n"
     ]
    }
   ],
   "source": [
    "print(\"Hello!! Welcome to 'First Class' of Python.\")"
   ]
  },
  {
   "cell_type": "code",
   "execution_count": 18,
   "id": "46e09168",
   "metadata": {},
   "outputs": [
    {
     "name": "stdout",
     "output_type": "stream",
     "text": [
      "Hello!! Welcome to \"First Class\" of Python.\n"
     ]
    }
   ],
   "source": [
    "print('Hello!! Welcome to \"First Class\" of Python.')"
   ]
  },
  {
   "cell_type": "code",
   "execution_count": 19,
   "id": "e4308964",
   "metadata": {},
   "outputs": [
    {
     "name": "stdout",
     "output_type": "stream",
     "text": [
      "Hello!! Welcome to \"First Class\" of Python.\n"
     ]
    }
   ],
   "source": [
    "print(\"Hello!! Welcome to \\\"First Class\\\" of Python.\")"
   ]
  },
  {
   "cell_type": "markdown",
   "id": "0ffc93f0",
   "metadata": {},
   "source": [
    "#                   Saylani Mass IT Training \n",
    "\n",
    "         Name: Mohammad Faraz\n",
    "         Class: AI & DS\n",
    "         Batch: 04\n",
    "         Campus : Bahadurabad Head Office \n",
    "         "
   ]
  },
  {
   "cell_type": "code",
   "execution_count": 22,
   "id": "04d46cbf",
   "metadata": {},
   "outputs": [
    {
     "name": "stdout",
     "output_type": "stream",
     "text": [
      "                          Saylani Mass IT Training\n",
      "\n",
      "                  Name: Mohammad Faraz\n",
      "                  Class: AI & DS\n",
      "                  Batch: 04\n",
      "                  Campus : Bahadurabad Head Office\n"
     ]
    }
   ],
   "source": [
    "print(\"\"\"                          Saylani Mass IT Training\n",
    "\n",
    "                  Name: Mohammad Faraz\n",
    "                  Class: AI & DS\n",
    "                  Batch: 04\n",
    "                  Campus : Bahadurabad Head Office\"\"\");"
   ]
  },
  {
   "cell_type": "code",
   "execution_count": 25,
   "id": "5910e4f3",
   "metadata": {},
   "outputs": [
    {
     "name": "stdout",
     "output_type": "stream",
     "text": [
      "Turkey\n"
     ]
    }
   ],
   "source": [
    "Country = \"Pakistan\";\n",
    "Country = \"Turkey\"\n",
    "print(Country);"
   ]
  },
  {
   "cell_type": "code",
   "execution_count": 26,
   "id": "d8adf18e",
   "metadata": {},
   "outputs": [
    {
     "name": "stdout",
     "output_type": "stream",
     "text": [
      "Turkey\n"
     ]
    }
   ],
   "source": [
    "print(Country);"
   ]
  },
  {
   "cell_type": "code",
   "execution_count": 27,
   "id": "185b5cb2",
   "metadata": {},
   "outputs": [
    {
     "name": "stdout",
     "output_type": "stream",
     "text": [
      "12\n"
     ]
    }
   ],
   "source": [
    "Country = 12\n",
    "print(Country)"
   ]
  },
  {
   "cell_type": "markdown",
   "id": "29f34728",
   "metadata": {},
   "source": [
    "# Operators\n",
    "\n",
    "     + - * / // % ** > < >= <= == != "
   ]
  },
  {
   "cell_type": "code",
   "execution_count": 28,
   "id": "51e1a16f",
   "metadata": {},
   "outputs": [
    {
     "data": {
      "text/plain": [
       "27"
      ]
     },
     "execution_count": 28,
     "metadata": {},
     "output_type": "execute_result"
    }
   ],
   "source": [
    "12 + 15"
   ]
  },
  {
   "cell_type": "code",
   "execution_count": 29,
   "id": "8930b5f8",
   "metadata": {},
   "outputs": [
    {
     "data": {
      "text/plain": [
       "22"
      ]
     },
     "execution_count": 29,
     "metadata": {},
     "output_type": "execute_result"
    }
   ],
   "source": [
    "51 - 29"
   ]
  },
  {
   "cell_type": "code",
   "execution_count": 30,
   "id": "7cb7dcc3",
   "metadata": {},
   "outputs": [
    {
     "data": {
      "text/plain": [
       "28"
      ]
     },
     "execution_count": 30,
     "metadata": {},
     "output_type": "execute_result"
    }
   ],
   "source": [
    "14 * 2"
   ]
  },
  {
   "cell_type": "code",
   "execution_count": 33,
   "id": "f265ee18",
   "metadata": {},
   "outputs": [
    {
     "data": {
      "text/plain": [
       "9.0"
      ]
     },
     "execution_count": 33,
     "metadata": {},
     "output_type": "execute_result"
    }
   ],
   "source": [
    "81 / 9\n",
    "\n",
    "# Floating Div"
   ]
  },
  {
   "cell_type": "code",
   "execution_count": 35,
   "id": "a1bc09b9",
   "metadata": {},
   "outputs": [
    {
     "data": {
      "text/plain": [
       "5"
      ]
     },
     "execution_count": 35,
     "metadata": {},
     "output_type": "execute_result"
    }
   ],
   "source": [
    "25 // 5\n",
    "\n",
    "# Int Div"
   ]
  },
  {
   "cell_type": "code",
   "execution_count": 36,
   "id": "53fa333a",
   "metadata": {},
   "outputs": [
    {
     "data": {
      "text/plain": [
       "4"
      ]
     },
     "execution_count": 36,
     "metadata": {},
     "output_type": "execute_result"
    }
   ],
   "source": [
    "10 % 6"
   ]
  },
  {
   "cell_type": "code",
   "execution_count": 38,
   "id": "de2c391f",
   "metadata": {},
   "outputs": [
    {
     "data": {
      "text/plain": [
       "125"
      ]
     },
     "execution_count": 38,
     "metadata": {},
     "output_type": "execute_result"
    }
   ],
   "source": [
    "5 ** 3"
   ]
  },
  {
   "cell_type": "code",
   "execution_count": 39,
   "id": "5053a00e",
   "metadata": {},
   "outputs": [
    {
     "data": {
      "text/plain": [
       "False"
      ]
     },
     "execution_count": 39,
     "metadata": {},
     "output_type": "execute_result"
    }
   ],
   "source": [
    "10 > 12 "
   ]
  },
  {
   "cell_type": "code",
   "execution_count": 40,
   "id": "bdaf3371",
   "metadata": {},
   "outputs": [
    {
     "data": {
      "text/plain": [
       "False"
      ]
     },
     "execution_count": 40,
     "metadata": {},
     "output_type": "execute_result"
    }
   ],
   "source": [
    "20 < 20"
   ]
  },
  {
   "cell_type": "code",
   "execution_count": 41,
   "id": "1ac1a849",
   "metadata": {},
   "outputs": [
    {
     "data": {
      "text/plain": [
       "True"
      ]
     },
     "execution_count": 41,
     "metadata": {},
     "output_type": "execute_result"
    }
   ],
   "source": [
    "12 >= 12"
   ]
  },
  {
   "cell_type": "code",
   "execution_count": 43,
   "id": "cb92243b",
   "metadata": {},
   "outputs": [
    {
     "data": {
      "text/plain": [
       "'Pakistan Zindabad'"
      ]
     },
     "execution_count": 43,
     "metadata": {},
     "output_type": "execute_result"
    }
   ],
   "source": [
    "\"Pakistan \" + \"Zindabad\""
   ]
  },
  {
   "cell_type": "code",
   "execution_count": 44,
   "id": "5aeb458f",
   "metadata": {},
   "outputs": [
    {
     "ename": "TypeError",
     "evalue": "can only concatenate str (not \"int\") to str",
     "output_type": "error",
     "traceback": [
      "\u001b[1;31m---------------------------------------------------------------------------\u001b[0m",
      "\u001b[1;31mTypeError\u001b[0m                                 Traceback (most recent call last)",
      "Cell \u001b[1;32mIn[44], line 1\u001b[0m\n\u001b[1;32m----> 1\u001b[0m \u001b[38;5;124;43m\"\u001b[39;49m\u001b[38;5;124;43m12\u001b[39;49m\u001b[38;5;124;43m\"\u001b[39;49m\u001b[43m \u001b[49m\u001b[38;5;241;43m+\u001b[39;49m\u001b[43m \u001b[49m\u001b[38;5;241;43m20\u001b[39;49m\n",
      "\u001b[1;31mTypeError\u001b[0m: can only concatenate str (not \"int\") to str"
     ]
    }
   ],
   "source": [
    "\"12\" + 20"
   ]
  },
  {
   "cell_type": "code",
   "execution_count": 46,
   "id": "26b3aed8",
   "metadata": {},
   "outputs": [
    {
     "name": "stdout",
     "output_type": "stream",
     "text": [
      "Enter your nameFaraz\n",
      "Enter your age22\n",
      "Enter your Batch04\n",
      "Enter your CourseAI & DS\n"
     ]
    },
    {
     "data": {
      "text/plain": [
       "'My name is Faraz. I am 22 years old. Currently, I enrolled in Batch-04 and my course is AI & DS'"
      ]
     },
     "execution_count": 46,
     "metadata": {},
     "output_type": "execute_result"
    }
   ],
   "source": [
    "userInput = input(\"Enter your name\")\n",
    "userage = input(\"Enter your age\")\n",
    "userBatch = input(\"Enter your Batch\")\n",
    "userCourse = input(\"Enter your Course\")\n",
    "\n",
    "\"My name is {}. I am {} years old. Currently, I enrolled in Batch-{} and my course is {}\".format(userInput,userage,userBatch,userCourse)"
   ]
  },
  {
   "cell_type": "code",
   "execution_count": 47,
   "id": "7377aa38",
   "metadata": {},
   "outputs": [
    {
     "data": {
      "text/plain": [
       "str"
      ]
     },
     "execution_count": 47,
     "metadata": {},
     "output_type": "execute_result"
    }
   ],
   "source": [
    "type(userage)"
   ]
  },
  {
   "cell_type": "code",
   "execution_count": 52,
   "id": "98db9f21",
   "metadata": {},
   "outputs": [
    {
     "data": {
      "text/plain": [
       "'My name is Faraz. I am 22 years old.'"
      ]
     },
     "execution_count": 52,
     "metadata": {},
     "output_type": "execute_result"
    }
   ],
   "source": [
    "\"My name is \" + userInput + \". I am \" + userage + \" years old.\"\n"
   ]
  },
  {
   "cell_type": "code",
   "execution_count": 53,
   "id": "3930d791",
   "metadata": {},
   "outputs": [
    {
     "name": "stdout",
     "output_type": "stream",
     "text": [
      "Enter your namefaraz\n",
      "Enter your age22\n"
     ]
    },
    {
     "data": {
      "text/plain": [
       "int"
      ]
     },
     "execution_count": 53,
     "metadata": {},
     "output_type": "execute_result"
    }
   ],
   "source": [
    "userInput = input(\"Enter your name\")\n",
    "userage = int(input(\"Enter your age\"))\n",
    "\n",
    "type(userage)"
   ]
  },
  {
   "cell_type": "code",
   "execution_count": 54,
   "id": "2642dfcb",
   "metadata": {},
   "outputs": [
    {
     "data": {
      "text/plain": [
       "'My name is faraz. I am 22 years old.'"
      ]
     },
     "execution_count": 54,
     "metadata": {},
     "output_type": "execute_result"
    }
   ],
   "source": [
    "f'My name is {userInput}. I am {userage} years old.'"
   ]
  },
  {
   "cell_type": "code",
   "execution_count": 56,
   "id": "6895f45e",
   "metadata": {},
   "outputs": [
    {
     "data": {
      "text/plain": [
       "24"
      ]
     },
     "execution_count": 56,
     "metadata": {},
     "output_type": "execute_result"
    }
   ],
   "source": [
    "int(\"12\") + 12"
   ]
  },
  {
   "cell_type": "code",
   "execution_count": null,
   "id": "b6143a95",
   "metadata": {},
   "outputs": [],
   "source": []
  }
 ],
 "metadata": {
  "kernelspec": {
   "display_name": "Python 3 (ipykernel)",
   "language": "python",
   "name": "python3"
  },
  "language_info": {
   "codemirror_mode": {
    "name": "ipython",
    "version": 3
   },
   "file_extension": ".py",
   "mimetype": "text/x-python",
   "name": "python",
   "nbconvert_exporter": "python",
   "pygments_lexer": "ipython3",
   "version": "3.11.1"
  }
 },
 "nbformat": 4,
 "nbformat_minor": 5
}
