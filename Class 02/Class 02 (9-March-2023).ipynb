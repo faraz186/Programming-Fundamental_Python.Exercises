{
 "cells": [
  {
   "cell_type": "code",
   "execution_count": 1,
   "id": "dc5bb93c",
   "metadata": {},
   "outputs": [],
   "source": [
    "name = \"Pakistan\""
   ]
  },
  {
   "cell_type": "markdown",
   "id": "7c5a2fea",
   "metadata": {},
   "source": [
    "# String Methods"
   ]
  },
  {
   "cell_type": "code",
   "execution_count": 2,
   "id": "f8c43b9d",
   "metadata": {},
   "outputs": [
    {
     "data": {
      "text/plain": [
       "1"
      ]
     },
     "execution_count": 2,
     "metadata": {},
     "output_type": "execute_result"
    }
   ],
   "source": [
    "name.count(\"P\")"
   ]
  },
  {
   "cell_type": "code",
   "execution_count": 4,
   "id": "d4b82b3d",
   "metadata": {},
   "outputs": [
    {
     "name": "stdout",
     "output_type": "stream",
     "text": [
      "Enter a number3.4\n"
     ]
    }
   ],
   "source": [
    "val = int(float(input(\"Enter a number\")))"
   ]
  },
  {
   "cell_type": "code",
   "execution_count": 5,
   "id": "7732ce75",
   "metadata": {},
   "outputs": [
    {
     "data": {
      "text/plain": [
       "3"
      ]
     },
     "execution_count": 5,
     "metadata": {},
     "output_type": "execute_result"
    }
   ],
   "source": [
    "val"
   ]
  },
  {
   "cell_type": "code",
   "execution_count": 6,
   "id": "053da85f",
   "metadata": {},
   "outputs": [
    {
     "data": {
      "text/plain": [
       "True"
      ]
     },
     "execution_count": 6,
     "metadata": {},
     "output_type": "execute_result"
    }
   ],
   "source": [
    "name.isalnum()"
   ]
  },
  {
   "cell_type": "code",
   "execution_count": 7,
   "id": "cde5fd8e",
   "metadata": {},
   "outputs": [
    {
     "data": {
      "text/plain": [
       "True"
      ]
     },
     "execution_count": 7,
     "metadata": {},
     "output_type": "execute_result"
    }
   ],
   "source": [
    "\"A12\".isalnum()"
   ]
  },
  {
   "cell_type": "code",
   "execution_count": 8,
   "id": "3dad83e9",
   "metadata": {},
   "outputs": [
    {
     "data": {
      "text/plain": [
       "True"
      ]
     },
     "execution_count": 8,
     "metadata": {},
     "output_type": "execute_result"
    }
   ],
   "source": [
    "\"12\".isalnum()"
   ]
  },
  {
   "cell_type": "code",
   "execution_count": 9,
   "id": "39f2bfad",
   "metadata": {},
   "outputs": [
    {
     "data": {
      "text/plain": [
       "False"
      ]
     },
     "execution_count": 9,
     "metadata": {},
     "output_type": "execute_result"
    }
   ],
   "source": [
    "\"%\".isalnum()"
   ]
  },
  {
   "cell_type": "code",
   "execution_count": 10,
   "id": "a24de1f2",
   "metadata": {},
   "outputs": [
    {
     "data": {
      "text/plain": [
       "'pakistan'"
      ]
     },
     "execution_count": 10,
     "metadata": {},
     "output_type": "execute_result"
    }
   ],
   "source": [
    "name.casefold()"
   ]
  },
  {
   "cell_type": "code",
   "execution_count": 15,
   "id": "2d49bb21",
   "metadata": {},
   "outputs": [
    {
     "data": {
      "text/plain": [
       "'Pakistan'"
      ]
     },
     "execution_count": 15,
     "metadata": {},
     "output_type": "execute_result"
    }
   ],
   "source": [
    "name.center(5,\"k\")"
   ]
  },
  {
   "cell_type": "code",
   "execution_count": 18,
   "id": "f019754e",
   "metadata": {},
   "outputs": [],
   "source": [
    "new_name = name.replace(\"n\", \"N\")"
   ]
  },
  {
   "cell_type": "code",
   "execution_count": 17,
   "id": "1f19feda",
   "metadata": {},
   "outputs": [
    {
     "data": {
      "text/plain": [
       "'Pakistan'"
      ]
     },
     "execution_count": 17,
     "metadata": {},
     "output_type": "execute_result"
    }
   ],
   "source": [
    "name"
   ]
  },
  {
   "cell_type": "code",
   "execution_count": 19,
   "id": "3a673d3f",
   "metadata": {},
   "outputs": [
    {
     "data": {
      "text/plain": [
       "'PakistaN'"
      ]
     },
     "execution_count": 19,
     "metadata": {},
     "output_type": "execute_result"
    }
   ],
   "source": [
    "new_name"
   ]
  },
  {
   "cell_type": "code",
   "execution_count": 20,
   "id": "8de822ae",
   "metadata": {},
   "outputs": [
    {
     "data": {
      "text/plain": [
       "['Pak', 'stan']"
      ]
     },
     "execution_count": 20,
     "metadata": {},
     "output_type": "execute_result"
    }
   ],
   "source": [
    "name.split(\"i\")"
   ]
  },
  {
   "cell_type": "code",
   "execution_count": 30,
   "id": "06ac52f6",
   "metadata": {},
   "outputs": [
    {
     "data": {
      "text/plain": [
       "'Pakistaninasirihussain'"
      ]
     },
     "execution_count": 30,
     "metadata": {},
     "output_type": "execute_result"
    }
   ],
   "source": [
    "\"i\".join(['Pak', 'stan', 'nasir', 'hussain'])"
   ]
  },
  {
   "cell_type": "code",
   "execution_count": 31,
   "id": "0c3c8583",
   "metadata": {},
   "outputs": [
    {
     "data": {
      "text/plain": [
       "'ZindabadPakistanZindabhag'"
      ]
     },
     "execution_count": 31,
     "metadata": {},
     "output_type": "execute_result"
    }
   ],
   "source": [
    "name.join([\"Zindabad\", \"Zindabhag\"])"
   ]
  },
  {
   "cell_type": "code",
   "execution_count": 26,
   "id": "c5cfb316",
   "metadata": {},
   "outputs": [],
   "source": [
    "student = \"Asad\""
   ]
  },
  {
   "cell_type": "code",
   "execution_count": 28,
   "id": "608b06b2",
   "metadata": {},
   "outputs": [],
   "source": [
    "student = student.upper()"
   ]
  },
  {
   "cell_type": "code",
   "execution_count": 27,
   "id": "473bfaa6",
   "metadata": {},
   "outputs": [
    {
     "data": {
      "text/plain": [
       "2411215413168"
      ]
     },
     "execution_count": 27,
     "metadata": {},
     "output_type": "execute_result"
    }
   ],
   "source": [
    "id(student)"
   ]
  },
  {
   "cell_type": "code",
   "execution_count": 29,
   "id": "2fc0082b",
   "metadata": {},
   "outputs": [
    {
     "data": {
      "text/plain": [
       "2411224777392"
      ]
     },
     "execution_count": 29,
     "metadata": {},
     "output_type": "execute_result"
    }
   ],
   "source": [
    "id(student)"
   ]
  },
  {
   "cell_type": "code",
   "execution_count": 32,
   "id": "b0ed3ad5",
   "metadata": {},
   "outputs": [
    {
     "data": {
      "text/plain": [
       "'ggPakistangg'"
      ]
     },
     "execution_count": 32,
     "metadata": {},
     "output_type": "execute_result"
    }
   ],
   "source": [
    "name.center(12,\"g\")"
   ]
  },
  {
   "cell_type": "markdown",
   "id": "fbb9e6cc",
   "metadata": {},
   "source": [
    "# List\n",
    "   - [ ]"
   ]
  },
  {
   "cell_type": "code",
   "execution_count": 33,
   "id": "c8a5b5f5",
   "metadata": {},
   "outputs": [],
   "source": [
    "# declare ans initialized\n",
    "empty_list  = []"
   ]
  },
  {
   "cell_type": "code",
   "execution_count": 34,
   "id": "3145b223",
   "metadata": {},
   "outputs": [
    {
     "data": {
      "text/plain": [
       "list"
      ]
     },
     "execution_count": 34,
     "metadata": {},
     "output_type": "execute_result"
    }
   ],
   "source": [
    "type(empty_list)"
   ]
  },
  {
   "cell_type": "code",
   "execution_count": 35,
   "id": "9953bf5e",
   "metadata": {},
   "outputs": [],
   "source": [
    "filled_list = [11,22,33,44]"
   ]
  },
  {
   "cell_type": "code",
   "execution_count": 36,
   "id": "eaa1cc5b",
   "metadata": {},
   "outputs": [],
   "source": [
    "misc_list = [11, 12.3, True, \"Nasir\", filled_list, name]\n"
   ]
  },
  {
   "cell_type": "code",
   "execution_count": 37,
   "id": "fec0d674",
   "metadata": {},
   "outputs": [
    {
     "data": {
      "text/plain": [
       "[11, 12.3, True, 'Nasir', [11, 22, 33, 44], 'Pakistan']"
      ]
     },
     "execution_count": 37,
     "metadata": {},
     "output_type": "execute_result"
    }
   ],
   "source": [
    "misc_list"
   ]
  },
  {
   "cell_type": "code",
   "execution_count": 38,
   "id": "109ab2ca",
   "metadata": {},
   "outputs": [],
   "source": [
    "students = [\"Nasir\", \"ASad\", \"Ali\", \"Ahmed\",\"Irfan\"]"
   ]
  },
  {
   "cell_type": "code",
   "execution_count": 39,
   "id": "21f9024e",
   "metadata": {},
   "outputs": [],
   "source": [
    "#Accessibility /Retrival /Traversing"
   ]
  },
  {
   "cell_type": "code",
   "execution_count": 40,
   "id": "d136ffde",
   "metadata": {},
   "outputs": [],
   "source": [
    "# Index : [0,1,2,3,4,5,6,7,8,9,.....]"
   ]
  },
  {
   "cell_type": "code",
   "execution_count": 41,
   "id": "408adbc4",
   "metadata": {},
   "outputs": [
    {
     "data": {
      "text/plain": [
       "'Nasir'"
      ]
     },
     "execution_count": 41,
     "metadata": {},
     "output_type": "execute_result"
    }
   ],
   "source": [
    "students[0]"
   ]
  },
  {
   "cell_type": "code",
   "execution_count": 42,
   "id": "12129b13",
   "metadata": {},
   "outputs": [
    {
     "data": {
      "text/plain": [
       "'Irfan'"
      ]
     },
     "execution_count": 42,
     "metadata": {},
     "output_type": "execute_result"
    }
   ],
   "source": [
    "students[4]"
   ]
  },
  {
   "cell_type": "code",
   "execution_count": 43,
   "id": "cf5df05c",
   "metadata": {},
   "outputs": [
    {
     "ename": "IndexError",
     "evalue": "list index out of range",
     "output_type": "error",
     "traceback": [
      "\u001b[1;31m---------------------------------------------------------------------------\u001b[0m",
      "\u001b[1;31mIndexError\u001b[0m                                Traceback (most recent call last)",
      "\u001b[1;32m<ipython-input-43-65a7df4189bc>\u001b[0m in \u001b[0;36m<module>\u001b[1;34m\u001b[0m\n\u001b[1;32m----> 1\u001b[1;33m \u001b[0mstudents\u001b[0m\u001b[1;33m[\u001b[0m\u001b[1;36m23\u001b[0m\u001b[1;33m]\u001b[0m\u001b[1;33m\u001b[0m\u001b[1;33m\u001b[0m\u001b[0m\n\u001b[0m",
      "\u001b[1;31mIndexError\u001b[0m: list index out of range"
     ]
    }
   ],
   "source": [
    "students[23]"
   ]
  },
  {
   "cell_type": "code",
   "execution_count": 44,
   "id": "503898cc",
   "metadata": {},
   "outputs": [
    {
     "data": {
      "text/plain": [
       "4"
      ]
     },
     "execution_count": 44,
     "metadata": {},
     "output_type": "execute_result"
    }
   ],
   "source": [
    "len(\"ASad\")"
   ]
  },
  {
   "cell_type": "code",
   "execution_count": 45,
   "id": "6d89a2c4",
   "metadata": {},
   "outputs": [
    {
     "data": {
      "text/plain": [
       "5"
      ]
     },
     "execution_count": 45,
     "metadata": {},
     "output_type": "execute_result"
    }
   ],
   "source": [
    "len(students)"
   ]
  },
  {
   "cell_type": "markdown",
   "id": "0a74c070",
   "metadata": {},
   "source": [
    "# List Methods"
   ]
  },
  {
   "cell_type": "code",
   "execution_count": 7,
   "id": "f32c704f",
   "metadata": {},
   "outputs": [],
   "source": [
    "students = [\"Nasir\", \"ASad\", \"Ali\", \"Ahmed\",\"Irfan\"]"
   ]
  },
  {
   "cell_type": "code",
   "execution_count": 8,
   "id": "c5b916e9",
   "metadata": {},
   "outputs": [
    {
     "data": {
      "text/plain": [
       "['Nasir', 'ASad', 'Ali', 'Ahmed', 'Irfan']"
      ]
     },
     "execution_count": 8,
     "metadata": {},
     "output_type": "execute_result"
    }
   ],
   "source": [
    "students"
   ]
  },
  {
   "cell_type": "code",
   "execution_count": 9,
   "id": "5d80022c",
   "metadata": {},
   "outputs": [],
   "source": [
    "students.append(100)"
   ]
  },
  {
   "cell_type": "code",
   "execution_count": 10,
   "id": "d84e36d6",
   "metadata": {},
   "outputs": [
    {
     "data": {
      "text/plain": [
       "['Nasir', 'ASad', 'Ali', 'Ahmed', 'Irfan', 100]"
      ]
     },
     "execution_count": 10,
     "metadata": {},
     "output_type": "execute_result"
    }
   ],
   "source": [
    "students"
   ]
  },
  {
   "cell_type": "code",
   "execution_count": 11,
   "id": "cd346342",
   "metadata": {},
   "outputs": [],
   "source": [
    "students.insert(2,\"Faraz\")"
   ]
  },
  {
   "cell_type": "code",
   "execution_count": 12,
   "id": "2df17141",
   "metadata": {},
   "outputs": [
    {
     "data": {
      "text/plain": [
       "['Nasir', 'ASad', 'Faraz', 'Ali', 'Ahmed', 'Irfan', 100]"
      ]
     },
     "execution_count": 12,
     "metadata": {},
     "output_type": "execute_result"
    }
   ],
   "source": [
    "students"
   ]
  },
  {
   "cell_type": "code",
   "execution_count": 16,
   "id": "df314d58",
   "metadata": {},
   "outputs": [
    {
     "data": {
      "text/plain": [
       "100"
      ]
     },
     "execution_count": 16,
     "metadata": {},
     "output_type": "execute_result"
    }
   ],
   "source": [
    "students.pop()"
   ]
  },
  {
   "cell_type": "code",
   "execution_count": 17,
   "id": "ec0ca566",
   "metadata": {},
   "outputs": [
    {
     "data": {
      "text/plain": [
       "['Nasir', 'ASad', 'Faraz', 'Ali', 'Ahmed', 'Irfan']"
      ]
     },
     "execution_count": 17,
     "metadata": {},
     "output_type": "execute_result"
    }
   ],
   "source": [
    "students"
   ]
  },
  {
   "cell_type": "code",
   "execution_count": 18,
   "id": "d06ab6e5",
   "metadata": {},
   "outputs": [],
   "source": [
    "students.clear()"
   ]
  },
  {
   "cell_type": "code",
   "execution_count": 19,
   "id": "9b9491fd",
   "metadata": {},
   "outputs": [
    {
     "data": {
      "text/plain": [
       "[]"
      ]
     },
     "execution_count": 19,
     "metadata": {},
     "output_type": "execute_result"
    }
   ],
   "source": [
    "students"
   ]
  },
  {
   "cell_type": "code",
   "execution_count": 20,
   "id": "4a5fe12f",
   "metadata": {},
   "outputs": [
    {
     "data": {
      "text/plain": [
       "[]"
      ]
     },
     "execution_count": 20,
     "metadata": {},
     "output_type": "execute_result"
    }
   ],
   "source": [
    "students.copy()"
   ]
  },
  {
   "cell_type": "code",
   "execution_count": 21,
   "id": "b3d78fec",
   "metadata": {},
   "outputs": [
    {
     "data": {
      "text/plain": [
       "[]"
      ]
     },
     "execution_count": 21,
     "metadata": {},
     "output_type": "execute_result"
    }
   ],
   "source": [
    "students"
   ]
  },
  {
   "cell_type": "code",
   "execution_count": 22,
   "id": "7989f46b",
   "metadata": {},
   "outputs": [],
   "source": [
    "students = ['Nasir', 'ASad', 'Faraz', 'Ali', 'Ahmed', 'Irfan']"
   ]
  },
  {
   "cell_type": "code",
   "execution_count": 23,
   "id": "eba3c3b3",
   "metadata": {},
   "outputs": [
    {
     "data": {
      "text/plain": [
       "['Nasir', 'ASad', 'Faraz', 'Ali', 'Ahmed', 'Irfan']"
      ]
     },
     "execution_count": 23,
     "metadata": {},
     "output_type": "execute_result"
    }
   ],
   "source": [
    "students"
   ]
  },
  {
   "cell_type": "code",
   "execution_count": 24,
   "id": "081d44ed",
   "metadata": {},
   "outputs": [
    {
     "data": {
      "text/plain": [
       "0"
      ]
     },
     "execution_count": 24,
     "metadata": {},
     "output_type": "execute_result"
    }
   ],
   "source": [
    "students.count(3)"
   ]
  },
  {
   "cell_type": "code",
   "execution_count": 25,
   "id": "c3efe5c2",
   "metadata": {},
   "outputs": [
    {
     "data": {
      "text/plain": [
       "0"
      ]
     },
     "execution_count": 25,
     "metadata": {},
     "output_type": "execute_result"
    }
   ],
   "source": [
    "students.count(10)"
   ]
  },
  {
   "cell_type": "code",
   "execution_count": 26,
   "id": "81897b80",
   "metadata": {},
   "outputs": [],
   "source": [
    "del students[1]"
   ]
  },
  {
   "cell_type": "code",
   "execution_count": 27,
   "id": "51d9a2f1",
   "metadata": {},
   "outputs": [
    {
     "data": {
      "text/plain": [
       "['Nasir', 'Faraz', 'Ali', 'Ahmed', 'Irfan']"
      ]
     },
     "execution_count": 27,
     "metadata": {},
     "output_type": "execute_result"
    }
   ],
   "source": [
    "students"
   ]
  },
  {
   "cell_type": "code",
   "execution_count": 28,
   "id": "a98a8862",
   "metadata": {},
   "outputs": [],
   "source": [
    "myCopy = students.copy()"
   ]
  },
  {
   "cell_type": "code",
   "execution_count": 29,
   "id": "8c6025b2",
   "metadata": {},
   "outputs": [
    {
     "data": {
      "text/plain": [
       "['Nasir', 'Faraz', 'Ali', 'Ahmed', 'Irfan']"
      ]
     },
     "execution_count": 29,
     "metadata": {},
     "output_type": "execute_result"
    }
   ],
   "source": [
    "myCopy"
   ]
  },
  {
   "cell_type": "code",
   "execution_count": 30,
   "id": "3d3c1ffe",
   "metadata": {},
   "outputs": [
    {
     "data": {
      "text/plain": [
       "1"
      ]
     },
     "execution_count": 30,
     "metadata": {},
     "output_type": "execute_result"
    }
   ],
   "source": [
    "students.count(\"Faraz\")"
   ]
  },
  {
   "cell_type": "code",
   "execution_count": 31,
   "id": "7001ff3e",
   "metadata": {},
   "outputs": [
    {
     "data": {
      "text/plain": [
       "0"
      ]
     },
     "execution_count": 31,
     "metadata": {},
     "output_type": "execute_result"
    }
   ],
   "source": [
    "students.count(\"faraz\")"
   ]
  },
  {
   "cell_type": "code",
   "execution_count": 32,
   "id": "c6d42e08",
   "metadata": {},
   "outputs": [],
   "source": [
    "students.extend(['a',\"b\",'c'])"
   ]
  },
  {
   "cell_type": "code",
   "execution_count": 33,
   "id": "50bd04a0",
   "metadata": {},
   "outputs": [
    {
     "data": {
      "text/plain": [
       "['Nasir', 'Faraz', 'Ali', 'Ahmed', 'Irfan', 'a', 'b', 'c']"
      ]
     },
     "execution_count": 33,
     "metadata": {},
     "output_type": "execute_result"
    }
   ],
   "source": [
    "students"
   ]
  },
  {
   "cell_type": "code",
   "execution_count": 34,
   "id": "5edfd1b0",
   "metadata": {},
   "outputs": [],
   "source": [
    "students.append(['a',\"b\",'c'])"
   ]
  },
  {
   "cell_type": "code",
   "execution_count": 35,
   "id": "d7aa95fb",
   "metadata": {},
   "outputs": [
    {
     "data": {
      "text/plain": [
       "['Nasir', 'Faraz', 'Ali', 'Ahmed', 'Irfan', 'a', 'b', 'c', ['a', 'b', 'c']]"
      ]
     },
     "execution_count": 35,
     "metadata": {},
     "output_type": "execute_result"
    }
   ],
   "source": [
    "students\n"
   ]
  },
  {
   "cell_type": "code",
   "execution_count": 36,
   "id": "7d01318c",
   "metadata": {},
   "outputs": [],
   "source": [
    "students.extend(\"Pakistan\")"
   ]
  },
  {
   "cell_type": "code",
   "execution_count": 38,
   "id": "dbd6f080",
   "metadata": {},
   "outputs": [],
   "source": [
    "students.clear()"
   ]
  },
  {
   "cell_type": "code",
   "execution_count": 39,
   "id": "d9049a32",
   "metadata": {},
   "outputs": [
    {
     "data": {
      "text/plain": [
       "[]"
      ]
     },
     "execution_count": 39,
     "metadata": {},
     "output_type": "execute_result"
    }
   ],
   "source": [
    "students"
   ]
  },
  {
   "cell_type": "code",
   "execution_count": 40,
   "id": "c785a8fe",
   "metadata": {},
   "outputs": [],
   "source": [
    "students.extend(\"Pakistan\")"
   ]
  },
  {
   "cell_type": "code",
   "execution_count": 41,
   "id": "2bce8324",
   "metadata": {},
   "outputs": [
    {
     "data": {
      "text/plain": [
       "['P', 'a', 'k', 'i', 's', 't', 'a', 'n']"
      ]
     },
     "execution_count": 41,
     "metadata": {},
     "output_type": "execute_result"
    }
   ],
   "source": [
    "students"
   ]
  },
  {
   "cell_type": "code",
   "execution_count": 44,
   "id": "2c8d0e1f",
   "metadata": {},
   "outputs": [],
   "source": [
    "students.extend(\"5555555\")"
   ]
  },
  {
   "cell_type": "code",
   "execution_count": 45,
   "id": "683b81c5",
   "metadata": {},
   "outputs": [
    {
     "data": {
      "text/plain": [
       "['P', 'a', 'k', 'i', 's', 't', 'a', 'n', '5', '5', '5', '5', '5', '5', '5']"
      ]
     },
     "execution_count": 45,
     "metadata": {},
     "output_type": "execute_result"
    }
   ],
   "source": [
    "students"
   ]
  },
  {
   "cell_type": "code",
   "execution_count": 46,
   "id": "2fe21ffe",
   "metadata": {},
   "outputs": [],
   "source": [
    "students.clear()"
   ]
  },
  {
   "cell_type": "code",
   "execution_count": 47,
   "id": "227b38e2",
   "metadata": {},
   "outputs": [],
   "source": [
    "students = ['Nasir', 'Faraz', 'Ali', 'Ahmed', 'Irfan', 'a', 'b', 'c']"
   ]
  },
  {
   "cell_type": "code",
   "execution_count": 48,
   "id": "c511e673",
   "metadata": {},
   "outputs": [
    {
     "data": {
      "text/plain": [
       "['Nasir', 'Faraz', 'Ali', 'Ahmed', 'Irfan', 'a', 'b', 'c']"
      ]
     },
     "execution_count": 48,
     "metadata": {},
     "output_type": "execute_result"
    }
   ],
   "source": [
    "students"
   ]
  },
  {
   "cell_type": "code",
   "execution_count": 49,
   "id": "7d9c3a1d",
   "metadata": {},
   "outputs": [],
   "source": [
    "newlist = students[0:3]"
   ]
  },
  {
   "cell_type": "code",
   "execution_count": 50,
   "id": "4d335c2a",
   "metadata": {},
   "outputs": [
    {
     "data": {
      "text/plain": [
       "['Nasir', 'Faraz', 'Ali']"
      ]
     },
     "execution_count": 50,
     "metadata": {},
     "output_type": "execute_result"
    }
   ],
   "source": [
    "newlist"
   ]
  },
  {
   "cell_type": "code",
   "execution_count": 51,
   "id": "a2640f88",
   "metadata": {},
   "outputs": [],
   "source": [
    "newlist = students[:4]"
   ]
  },
  {
   "cell_type": "code",
   "execution_count": 52,
   "id": "57699dca",
   "metadata": {},
   "outputs": [
    {
     "data": {
      "text/plain": [
       "['Nasir', 'Faraz', 'Ali', 'Ahmed']"
      ]
     },
     "execution_count": 52,
     "metadata": {},
     "output_type": "execute_result"
    }
   ],
   "source": [
    "newlist"
   ]
  },
  {
   "cell_type": "code",
   "execution_count": 53,
   "id": "7311a313",
   "metadata": {},
   "outputs": [],
   "source": [
    "newlist = students[1:]"
   ]
  },
  {
   "cell_type": "code",
   "execution_count": 54,
   "id": "13206f31",
   "metadata": {},
   "outputs": [
    {
     "data": {
      "text/plain": [
       "['Faraz', 'Ali', 'Ahmed', 'Irfan', 'a', 'b', 'c']"
      ]
     },
     "execution_count": 54,
     "metadata": {},
     "output_type": "execute_result"
    }
   ],
   "source": [
    "newlist"
   ]
  },
  {
   "cell_type": "code",
   "execution_count": 55,
   "id": "4a9ac78c",
   "metadata": {},
   "outputs": [],
   "source": [
    "newlist = students[1:-3]"
   ]
  },
  {
   "cell_type": "code",
   "execution_count": 56,
   "id": "5133f352",
   "metadata": {},
   "outputs": [
    {
     "data": {
      "text/plain": [
       "['Faraz', 'Ali', 'Ahmed', 'Irfan']"
      ]
     },
     "execution_count": 56,
     "metadata": {},
     "output_type": "execute_result"
    }
   ],
   "source": [
    "newlist"
   ]
  },
  {
   "cell_type": "code",
   "execution_count": 57,
   "id": "73df7402",
   "metadata": {},
   "outputs": [],
   "source": [
    "newlist = students[:]"
   ]
  },
  {
   "cell_type": "code",
   "execution_count": 58,
   "id": "f8bddbfe",
   "metadata": {},
   "outputs": [
    {
     "data": {
      "text/plain": [
       "['Nasir', 'Faraz', 'Ali', 'Ahmed', 'Irfan', 'a', 'b', 'c']"
      ]
     },
     "execution_count": 58,
     "metadata": {},
     "output_type": "execute_result"
    }
   ],
   "source": [
    "newlist"
   ]
  },
  {
   "cell_type": "code",
   "execution_count": 59,
   "id": "dc875b56",
   "metadata": {},
   "outputs": [],
   "source": [
    "newlist = students[16:20]"
   ]
  },
  {
   "cell_type": "code",
   "execution_count": 60,
   "id": "efde6cb1",
   "metadata": {},
   "outputs": [
    {
     "data": {
      "text/plain": [
       "[]"
      ]
     },
     "execution_count": 60,
     "metadata": {},
     "output_type": "execute_result"
    }
   ],
   "source": [
    "newlist"
   ]
  },
  {
   "cell_type": "code",
   "execution_count": null,
   "id": "54ba94e9",
   "metadata": {},
   "outputs": [],
   "source": []
  }
 ],
 "metadata": {
  "kernelspec": {
   "display_name": "Python 3 (ipykernel)",
   "language": "python",
   "name": "python3"
  },
  "language_info": {
   "codemirror_mode": {
    "name": "ipython",
    "version": 3
   },
   "file_extension": ".py",
   "mimetype": "text/x-python",
   "name": "python",
   "nbconvert_exporter": "python",
   "pygments_lexer": "ipython3",
   "version": "3.11.1"
  }
 },
 "nbformat": 4,
 "nbformat_minor": 5
}
