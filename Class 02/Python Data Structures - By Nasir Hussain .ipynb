{
 "cells": [
  {
   "cell_type": "markdown",
   "id": "a0d109e5",
   "metadata": {},
   "source": [
    "# Python Collections / Data Structures \n",
    " - Collections are use to store more than one value in a single variable like an array etc..\n",
    " - There are different collection in python. Every collection has its own properties and behaviours.\n",
    "             - List\n",
    "             - Tupe\n",
    "             - Dictionary\n",
    "             - Set\n",
    " "
   ]
  },
  {
   "cell_type": "markdown",
   "id": "32ec2e55",
   "metadata": {},
   "source": [
    "# List\n",
    " - Lists are identified by [] square brackets\n",
    " - List are widely used colection in python.\n",
    " - Any type of vales can be a memeber of list.\n",
    " - There is no limit of the size of a list.\n",
    " - List can be mutated. Means a list is mutable. We can change the list. \n",
    " - Topics covered in list:\n",
    "          - create an empty list\n",
    "          - create a loaded elements list\n",
    "          - Accessing members of list using list indices\n",
    "          - Replacing or updating a list member\n",
    "          - Deleting list members or elements"
   ]
  },
  {
   "cell_type": "code",
   "execution_count": null,
   "id": "14b8155d",
   "metadata": {},
   "outputs": [],
   "source": [
    "# An empty list of students are created\n",
    "students = []"
   ]
  },
  {
   "cell_type": "code",
   "execution_count": null,
   "id": "514aee85",
   "metadata": {},
   "outputs": [],
   "source": [
    "# returns the type of variable name supplied to it. In this case students is of list type variable.\n",
    "type(students)"
   ]
  },
  {
   "cell_type": "code",
   "execution_count": null,
   "id": "df8afca0",
   "metadata": {},
   "outputs": [],
   "source": [
    "# return the size or length or number of elements a list has inside. In this case it is 0 as list is empty.\n",
    "len(students)"
   ]
  },
  {
   "cell_type": "markdown",
   "id": "e9267b61",
   "metadata": {},
   "source": [
    "### List Indeices to access or retrieve the list elements: \n",
    "    - Indices are the position of an element in the list. \n",
    "    - Indices starts from 0 not from 1. (if read Left to Right)\n",
    "    - Indices can also be -ve starting from -1 to onwards. (if read from right to left)    "
   ]
  },
  {
   "cell_type": "code",
   "execution_count": null,
   "id": "42187b60",
   "metadata": {},
   "outputs": [],
   "source": [
    "#           -4       -3      -2       -1 \n",
    "students = [\"Asad\",\"Ali\",\"Daad\",\"Hassan\"]\n",
    "#             0      1     2       3\n",
    "\n",
    "#Note here every element has both +ve ans -ve index. We can use any of the two depends upon logic of the problem we are to solved.\n"
   ]
  },
  {
   "cell_type": "code",
   "execution_count": null,
   "id": "29aa84e2",
   "metadata": {},
   "outputs": [],
   "source": [
    "students"
   ]
  },
  {
   "cell_type": "code",
   "execution_count": null,
   "id": "d8fdcbdb",
   "metadata": {},
   "outputs": [],
   "source": [
    "# who is on index 2 \n",
    "students[2]"
   ]
  },
  {
   "cell_type": "code",
   "execution_count": null,
   "id": "482432ee",
   "metadata": {},
   "outputs": [],
   "source": [
    "# who is on index -3\n",
    "students[-3]"
   ]
  },
  {
   "cell_type": "code",
   "execution_count": null,
   "id": "b32fc288",
   "metadata": {},
   "outputs": [],
   "source": [
    "# A list can have str , int , bool, float, type of values \n",
    "# A list can have collections as elements of the list\n",
    "# In this case 4th index has a list as an element.\n",
    "\n",
    "miscList = [\"Nasir\", 12, True, 23.7, [11,22,33]]\n",
    "miscList"
   ]
  },
  {
   "cell_type": "code",
   "execution_count": null,
   "id": "06714fab",
   "metadata": {},
   "outputs": [],
   "source": [
    "miscList[3]"
   ]
  },
  {
   "cell_type": "code",
   "execution_count": null,
   "id": "5c9c8111",
   "metadata": {},
   "outputs": [],
   "source": [
    "# A list inside a list on index 4\n",
    "miscList[4]"
   ]
  },
  {
   "cell_type": "code",
   "execution_count": null,
   "id": "ef9856ad",
   "metadata": {},
   "outputs": [],
   "source": [
    "# if we want to access an element of member list then we have to pass two indices like this: \n",
    "#one for index of list and another for index of insde list element.\n",
    "miscList[4][2]\n",
    "\n",
    "# this will go to index 4 there is a list on it. further it will go to index 2 of this list."
   ]
  },
  {
   "cell_type": "markdown",
   "id": "f8dd09bb",
   "metadata": {},
   "source": [
    "### Updating/Replacing  a list item using index"
   ]
  },
  {
   "cell_type": "code",
   "execution_count": null,
   "id": "eb96b854",
   "metadata": {},
   "outputs": [],
   "source": [
    "# change the item on list index 2 with False\n",
    "miscList[2]=False"
   ]
  },
  {
   "cell_type": "code",
   "execution_count": null,
   "id": "3a473813",
   "metadata": {},
   "outputs": [],
   "source": [
    "miscList"
   ]
  },
  {
   "cell_type": "code",
   "execution_count": null,
   "id": "92f2b743",
   "metadata": {},
   "outputs": [],
   "source": [
    "# Repalce / Update\n",
    "miscList[2]=\"Hello\""
   ]
  },
  {
   "cell_type": "code",
   "execution_count": null,
   "id": "416443df",
   "metadata": {},
   "outputs": [],
   "source": [
    "miscList"
   ]
  },
  {
   "cell_type": "code",
   "execution_count": null,
   "id": "93b45f58",
   "metadata": {},
   "outputs": [],
   "source": [
    "miscList"
   ]
  },
  {
   "cell_type": "markdown",
   "id": "ae6b5a30",
   "metadata": {},
   "source": [
    "### Inserting an element in an existing list.\n",
    "   - If we have a list either it is empty or loaded. \n",
    "   - We want to add more elements to the list.\n",
    "   - There are two ways to do it:\n",
    "    - append()\n",
    "    - insert()\n",
    "    \n",
    "    \n",
    "#### Append function()\n",
    "    - listname.append adds a supplied member to the end of the list. Always at the end. \n",
    "    - it only takes on value at a time\n",
    "    - it can take any valid type of value like int str float bool, list, set , tuple , dic\n",
    "    \n",
    "#### Insert function()\n",
    "   - listname. insert() also adds a single value to the list but it asks for position of the member. "
   ]
  },
  {
   "cell_type": "code",
   "execution_count": null,
   "id": "d06f6127",
   "metadata": {},
   "outputs": [],
   "source": [
    "miscList"
   ]
  },
  {
   "cell_type": "code",
   "execution_count": null,
   "id": "182550cf",
   "metadata": {},
   "outputs": [],
   "source": [
    "# 1000 will be added in the last of the list.\n",
    "miscList.append(1000)\n",
    "miscList"
   ]
  },
  {
   "cell_type": "code",
   "execution_count": null,
   "id": "27495426",
   "metadata": {},
   "outputs": [],
   "source": [
    "Insert "
   ]
  },
  {
   "cell_type": "code",
   "execution_count": null,
   "id": "b18a1591",
   "metadata": {},
   "outputs": [],
   "source": [
    "students"
   ]
  },
  {
   "cell_type": "code",
   "execution_count": null,
   "id": "ae67a50c",
   "metadata": {},
   "outputs": [],
   "source": [
    "# it ask \"kahan, kia\" means kahan dalni hy value and kia value dalni hy \n",
    "students.insert(2,\"Rehan\")"
   ]
  },
  {
   "cell_type": "code",
   "execution_count": null,
   "id": "050b8911",
   "metadata": {},
   "outputs": [],
   "source": [
    "students"
   ]
  },
  {
   "cell_type": "code",
   "execution_count": null,
   "id": "07993922",
   "metadata": {},
   "outputs": [],
   "source": [
    "# we are saying to insert a collection (alist) on index2 \n",
    "students.insert(2,[\"Rehan\",\"Farhan\",\"Rayyan\"])\n",
    "students"
   ]
  },
  {
   "cell_type": "markdown",
   "id": "e6b8ec66",
   "metadata": {},
   "source": [
    "### Removing members from existing list\n",
    "    We can remove members from list if needed. There many ways to remove members from list. Every way has its own usage \n",
    "    - del\n",
    "    - remove()\n",
    "    - pop()\n",
    "    - clear()\n",
    "    \n",
    "#### Del command\n",
    "    - del ask for list name and index to remove the value from that index\n",
    "    - it removes the element and does not return the deleted value \n",
    "    - it can also remove chunk or segment of value from list.\n",
    "    \n",
    "    - To remove a value we must know its index.\n",
    "    \n",
    "#### Remove() function of list\n",
    "   - We can remove a value from the list by using its name(value). \n",
    "   - If the value is present in the list it will be removed\n",
    "   - If there are more than one same value, the first one will be removed \n",
    "   - If value is not present in the list it will throw exfeption(error)\n",
    "   \n",
    "#### Pop() function of list\n",
    "   - Pop function remove a single value from list.\n",
    "   - Be default pop remove from last index (-1) of the list\n",
    "   - Importantly only pop returns the removed value. \n",
    "   - If we want to keep track of the removed value we can store the removed value\n",
    "   - This features is not provoded in above fucntions. \n",
    "   - Pop removes till list is not empty. If list is empty or gets emptied then will throw empty list error\n",
    "   \n",
    "#### Clear\n",
    "    - Clear() function permanently deletes all the members of the list in one go. (Dangerous)"
   ]
  },
  {
   "cell_type": "code",
   "execution_count": null,
   "id": "e8be068e",
   "metadata": {},
   "outputs": [],
   "source": [
    "miscList"
   ]
  },
  {
   "cell_type": "code",
   "execution_count": null,
   "id": "59d91d80",
   "metadata": {},
   "outputs": [],
   "source": [
    "# delete value from index 2 >>\"Hello\"\n",
    "del miscList[2]\n",
    "miscList"
   ]
  },
  {
   "cell_type": "code",
   "execution_count": null,
   "id": "ed5d5663",
   "metadata": {},
   "outputs": [],
   "source": [
    "# remove segment of values from 1 to 3(3 not included)\n",
    "del miscList[1:3]"
   ]
  },
  {
   "cell_type": "code",
   "execution_count": null,
   "id": "b22ef7f0",
   "metadata": {},
   "outputs": [],
   "source": [
    "miscList"
   ]
  },
  {
   "cell_type": "code",
   "execution_count": null,
   "id": "c49e07c7",
   "metadata": {},
   "outputs": [],
   "source": [
    "students"
   ]
  },
  {
   "cell_type": "code",
   "execution_count": null,
   "id": "45002e11",
   "metadata": {},
   "outputs": [],
   "source": [
    "# using remove function which ask for a value to remove\n",
    "students.remove('Rehan')\n",
    "students"
   ]
  },
  {
   "cell_type": "code",
   "execution_count": null,
   "id": "f1780f58",
   "metadata": {},
   "outputs": [],
   "source": [
    "students.remove(\"Ali\")\n",
    "students"
   ]
  },
  {
   "cell_type": "code",
   "execution_count": null,
   "id": "cefd54e9",
   "metadata": {},
   "outputs": [],
   "source": [
    "students"
   ]
  },
  {
   "cell_type": "code",
   "execution_count": null,
   "id": "d7ae6652",
   "metadata": {},
   "outputs": [],
   "source": [
    "# delete a value using pop function\n",
    "students.pop()"
   ]
  },
  {
   "cell_type": "code",
   "execution_count": null,
   "id": "8d8e4410",
   "metadata": {},
   "outputs": [],
   "source": [
    "students"
   ]
  },
  {
   "cell_type": "code",
   "execution_count": null,
   "id": "f3e5cd6e",
   "metadata": {},
   "outputs": [],
   "source": [
    "# delete, receive and store the popped value \n",
    "popped_val = students.pop()\n",
    "\n",
    "print(students)\n",
    "\n",
    "popped_val"
   ]
  },
  {
   "cell_type": "code",
   "execution_count": null,
   "id": "d5985e91",
   "metadata": {},
   "outputs": [],
   "source": [
    "# Clear funvtion to clear the list by removing all the values in one go. \n",
    "miscList.clear()"
   ]
  },
  {
   "cell_type": "code",
   "execution_count": null,
   "id": "9fa12a21",
   "metadata": {},
   "outputs": [],
   "source": [
    "miscList"
   ]
  },
  {
   "cell_type": "markdown",
   "id": "ba4da338",
   "metadata": {},
   "source": [
    "### More list functions\n",
    "    - copy()\n",
    "          - makes separate a copy of entire list.\n",
    "                    newlist= misc_list.copy()\n",
    "    - extend()\n",
    "         - it add a collection's members separately on separate indices\n",
    "               misc_list.extends([11,22,33])\n",
    "         result:\n",
    "               ['Nasir', 23.7, [11, 22, 33], 1000, 11,22,33]  **not this** ['Nasir', 23.7, [11, 22, 33], 1000,[11,22,33]]\n",
    "                   \n",
    "    - sort(): sort the list in s=ascending or descending order.\n",
    "    - reverse(): reverse the list in same order. \n",
    "    - index(): return the index of the asked value\n",
    "    - count(): count(\"Ali\") return the number of time Ali accurs in list\n",
    "    "
   ]
  },
  {
   "cell_type": "markdown",
   "id": "fcdc8671",
   "metadata": {},
   "source": [
    "### Copying a list\n",
    "  - copy()\n",
    "  \n",
    "  "
   ]
  },
  {
   "cell_type": "code",
   "execution_count": null,
   "id": "0c4e2c1b",
   "metadata": {},
   "outputs": [],
   "source": [
    "students"
   ]
  },
  {
   "cell_type": "code",
   "execution_count": null,
   "id": "1bc16958",
   "metadata": {},
   "outputs": [],
   "source": [
    "mySt = students.copy()"
   ]
  },
  {
   "cell_type": "code",
   "execution_count": null,
   "id": "c36de564",
   "metadata": {},
   "outputs": [],
   "source": [
    "mySt"
   ]
  },
  {
   "cell_type": "code",
   "execution_count": null,
   "id": "c065949a",
   "metadata": {},
   "outputs": [],
   "source": [
    "# Counts the value in list \n",
    "students.count(\"Ali\")"
   ]
  },
  {
   "cell_type": "code",
   "execution_count": null,
   "id": "bdb4afec",
   "metadata": {},
   "outputs": [],
   "source": [
    "students.count('ali')"
   ]
  },
  {
   "cell_type": "code",
   "execution_count": null,
   "id": "cee1e5c2",
   "metadata": {},
   "outputs": [],
   "source": [
    "# Extends the memebers of collection on by one in list \n",
    "students.extend(['a',\"b\",'c'])"
   ]
  },
  {
   "cell_type": "code",
   "execution_count": null,
   "id": "fa1a989a",
   "metadata": {},
   "outputs": [],
   "source": [
    "students"
   ]
  },
  {
   "cell_type": "code",
   "execution_count": null,
   "id": "8fa171dd",
   "metadata": {},
   "outputs": [],
   "source": [
    "# as compare to extend append adds collection as one member\n",
    "students.append(['a',\"b\",'c'])"
   ]
  },
  {
   "cell_type": "code",
   "execution_count": null,
   "id": "ef00edd6",
   "metadata": {},
   "outputs": [],
   "source": [
    "students"
   ]
  },
  {
   "cell_type": "raw",
   "id": "13b0d736",
   "metadata": {},
   "source": [
    "Iterables: All Collections are iterables means every items of the collection can be accessed. \n",
    "           list members can be accessed\n",
    "           set members can be accessed\n",
    "           tuple members can be accessed\n",
    "           dictionary members can be accessed\n",
    "           String is also iterable its characters can also be accessed individualy.\n",
    "      "
   ]
  },
  {
   "cell_type": "code",
   "execution_count": null,
   "id": "58d2e8d6",
   "metadata": {},
   "outputs": [],
   "source": [
    "# since string is iterable if we extend a string value its every character will be added in list separtely\n",
    "students.extend(\"Pakistan\")"
   ]
  },
  {
   "cell_type": "code",
   "execution_count": null,
   "id": "ae5cd33d",
   "metadata": {},
   "outputs": [],
   "source": [
    "students"
   ]
  },
  {
   "cell_type": "code",
   "execution_count": null,
   "id": "c22cfc15",
   "metadata": {},
   "outputs": [],
   "source": [
    "# since integers are not iterables, we can not extend it\n",
    "students.extend(55555)"
   ]
  },
  {
   "cell_type": "code",
   "execution_count": null,
   "id": "c2a0cc24",
   "metadata": {},
   "outputs": [],
   "source": [
    "# the same value is in list form now it can be extended. \n",
    "students.extend('55555')\n",
    "students"
   ]
  },
  {
   "cell_type": "markdown",
   "id": "71520bf2",
   "metadata": {},
   "source": [
    "### Slicing a list\n",
    "   - Slicing is way to make a copy of complete or some segment of the list\n",
    "   "
   ]
  },
  {
   "cell_type": "code",
   "execution_count": 4,
   "id": "29e05b6f",
   "metadata": {},
   "outputs": [
    {
     "data": {
      "text/plain": [
       "33"
      ]
     },
     "execution_count": 4,
     "metadata": {},
     "output_type": "execute_result"
    }
   ],
   "source": [
    "# indexing a member on index 2\n",
    "nums = [11,22,33,44,55,66,77,88,99,100]\n",
    "nums[2]"
   ]
  },
  {
   "cell_type": "code",
   "execution_count": 6,
   "id": "20831b7a",
   "metadata": {},
   "outputs": [
    {
     "data": {
      "text/plain": [
       "[33, 44, 55]"
      ]
     },
     "execution_count": 6,
     "metadata": {},
     "output_type": "execute_result"
    }
   ],
   "source": [
    "# make of copy of nums list segment starting from 2 to 4 as 5 will not be included. \n",
    "nums3 = nums[2:5]\n",
    "nums3"
   ]
  },
  {
   "cell_type": "code",
   "execution_count": 7,
   "id": "a99dd0b0",
   "metadata": {},
   "outputs": [
    {
     "name": "stdout",
     "output_type": "stream",
     "text": [
      "[11, 22, 33, 44, 55, 66]\n",
      "[11, 22, 33, 44, 55, 66]\n"
     ]
    }
   ],
   "source": [
    "# start from 0 goto index 5 as 6 will not be included . \n",
    "print(nums[0:6])\n",
    "\n",
    "# if we donot supply starting index be default it will start from very begining which 0 index \n",
    "print(nums[:6])"
   ]
  },
  {
   "cell_type": "code",
   "execution_count": 8,
   "id": "a15b831e",
   "metadata": {},
   "outputs": [
    {
     "data": {
      "text/plain": [
       "[11, 22, 33, 44, 55, 66, 77, 88, 99, 100]"
      ]
     },
     "execution_count": 8,
     "metadata": {},
     "output_type": "execute_result"
    }
   ],
   "source": [
    "nums"
   ]
  },
  {
   "cell_type": "code",
   "execution_count": 13,
   "id": "0a70bac8",
   "metadata": {},
   "outputs": [
    {
     "name": "stdout",
     "output_type": "stream",
     "text": [
      "[77, 88, 99]\n",
      "[77, 88, 99, 100]\n",
      "[77, 88, 99]\n"
     ]
    }
   ],
   "source": [
    "# start from 6 goto 8 as 9 will not be included\n",
    "print(nums[6:9])\n",
    "\n",
    "# if we donot supply ending index it will go till end of list\n",
    "print(nums[6:])\n",
    "\n",
    "# We can use -ve index to move from left to right \n",
    "print(nums[6:-1])"
   ]
  },
  {
   "cell_type": "code",
   "execution_count": 14,
   "id": "f2d5ccbf",
   "metadata": {},
   "outputs": [],
   "source": [
    "anylist = [11,22,33,44,55,66,77,88,99]\n",
    "         #  0  1  2  3  4  5  6  7  8 "
   ]
  },
  {
   "cell_type": "code",
   "execution_count": 15,
   "id": "5245df8d",
   "metadata": {},
   "outputs": [
    {
     "data": {
      "text/plain": [
       "[11, 22, 33, 44, 55, 66]"
      ]
     },
     "execution_count": 15,
     "metadata": {},
     "output_type": "execute_result"
    }
   ],
   "source": [
    "sliced_list = anylist[:6]\n",
    "sliced_list"
   ]
  },
  {
   "cell_type": "code",
   "execution_count": 16,
   "id": "eac75594",
   "metadata": {},
   "outputs": [
    {
     "data": {
      "text/plain": [
       "[33, 44, 55, 66, 77, 88, 99]"
      ]
     },
     "execution_count": 16,
     "metadata": {},
     "output_type": "execute_result"
    }
   ],
   "source": [
    "sliced_list = anylist[2:]\n",
    "sliced_list"
   ]
  },
  {
   "cell_type": "code",
   "execution_count": 17,
   "id": "08f12cbd",
   "metadata": {},
   "outputs": [
    {
     "data": {
      "text/plain": [
       "[11, 22, 33, 44, 55, 66, 77, 88, 99]"
      ]
     },
     "execution_count": 17,
     "metadata": {},
     "output_type": "execute_result"
    }
   ],
   "source": [
    "exact_copy = anylist[:]\n",
    "exact_copy"
   ]
  },
  {
   "cell_type": "code",
   "execution_count": 18,
   "id": "3b10ad95",
   "metadata": {},
   "outputs": [
    {
     "data": {
      "text/plain": [
       "[]"
      ]
     },
     "execution_count": 18,
     "metadata": {},
     "output_type": "execute_result"
    }
   ],
   "source": [
    "# Note if i pass wrong indices in slicing it will NOT show error\n",
    "wrong_index_list_copying = anylist[100:200]\n",
    "wrong_index_list_copying"
   ]
  },
  {
   "cell_type": "code",
   "execution_count": 19,
   "id": "557b292a",
   "metadata": {},
   "outputs": [
    {
     "data": {
      "text/plain": [
       "[11, 22, 33, 44, 55, 66, 77, 88, 99]"
      ]
     },
     "execution_count": 19,
     "metadata": {},
     "output_type": "execute_result"
    }
   ],
   "source": [
    "anylist"
   ]
  },
  {
   "cell_type": "markdown",
   "id": "adc4edbb",
   "metadata": {},
   "source": [
    "### list packing and upacking\n",
    "  - declaring an initializing a list actually is all about packing no, one oe more than one value/values in a single variable.\n",
    "  \n",
    "  - Ex: fruits = ['mangoe',oranges, apples] >> this is packing\n",
    "  \n",
    "        fruit1,fruit2,fruit3 = fruits       >> this is unpacking    \n",
    "        \n",
    "        Elements of list will be assigned to fruit1, fruit2,fruit3 respectively. \n",
    "        we will need same number of variables as elements in list to unpack"
   ]
  },
  {
   "cell_type": "code",
   "execution_count": 20,
   "id": "dd2d0fe9",
   "metadata": {},
   "outputs": [],
   "source": [
    "# packing value in a variable \n",
    "fruits = ['mangoe','oranges', 'apples']\n",
    "\n",
    "# unpacking above list into fruit1, fruit2,fruit3\n",
    "fruit1,fruit2,fruit3 = fruits\n"
   ]
  },
  {
   "cell_type": "code",
   "execution_count": 22,
   "id": "665f5461",
   "metadata": {},
   "outputs": [
    {
     "name": "stdout",
     "output_type": "stream",
     "text": [
      "mangoe\n",
      "oranges\n",
      "apples\n"
     ]
    }
   ],
   "source": [
    "print(fruit1)\n",
    "print(fruit2)\n",
    "print(fruit3)"
   ]
  },
  {
   "cell_type": "code",
   "execution_count": 23,
   "id": "e58277ea",
   "metadata": {},
   "outputs": [],
   "source": [
    "# slicing moves always from left to right index. \n",
    "# means start index must be on left side and ending index must be on right side. \n",
    "# in case something else, no slice will be done and returns [] empty list"
   ]
  },
  {
   "cell_type": "markdown",
   "id": "f31ab132",
   "metadata": {},
   "source": [
    "# tuple\n",
    "  - a tuple is a type of collection that can not be mutated. \n",
    "  - We can copy, slice , index a tuple but we can not change the original tuple. \n",
    "  - Tuple is immutable\n",
    "  - A tuple is identifed by small braces ()\n",
    "  "
   ]
  },
  {
   "cell_type": "code",
   "execution_count": 26,
   "id": "7b64d679",
   "metadata": {},
   "outputs": [],
   "source": [
    "#immutable\n",
    "atuple = (2,3,4,5,6,87)"
   ]
  },
  {
   "cell_type": "code",
   "execution_count": 27,
   "id": "d88e83c5",
   "metadata": {},
   "outputs": [
    {
     "data": {
      "text/plain": [
       "tuple"
      ]
     },
     "execution_count": 27,
     "metadata": {},
     "output_type": "execute_result"
    }
   ],
   "source": [
    "type(atuple)"
   ]
  },
  {
   "cell_type": "code",
   "execution_count": 29,
   "id": "35838ffd",
   "metadata": {},
   "outputs": [
    {
     "data": {
      "text/plain": [
       "2"
      ]
     },
     "execution_count": 29,
     "metadata": {},
     "output_type": "execute_result"
    }
   ],
   "source": [
    "# indexing a value of a tuple\n",
    "atuple[0]"
   ]
  },
  {
   "cell_type": "code",
   "execution_count": 31,
   "id": "1580db32",
   "metadata": {},
   "outputs": [
    {
     "data": {
      "text/plain": [
       "(5, 6, 87)"
      ]
     },
     "execution_count": 31,
     "metadata": {},
     "output_type": "execute_result"
    }
   ],
   "source": [
    "# slicing a tuple\n",
    "atuple[3:6]"
   ]
  },
  {
   "cell_type": "code",
   "execution_count": 35,
   "id": "a59f43d8",
   "metadata": {},
   "outputs": [
    {
     "name": "stdout",
     "output_type": "stream",
     "text": [
      "(2, 3, 4, 5, 6, 87)\n",
      "(2, 3, 4, 5, 6, 87)\n"
     ]
    }
   ],
   "source": [
    "# exact copying a tuple using slicing there is not copy() function in tuple as it was in list \n",
    "btuple = atuple[:]\n",
    "print(atuple)\n",
    "print(btuple)"
   ]
  },
  {
   "cell_type": "markdown",
   "id": "00a989e1",
   "metadata": {},
   "source": [
    "**We can not delete elements from a tuple as tuple is immutable**\n",
    "\n",
    "**We can not replace or change any element froma a tuple as is it immutable**"
   ]
  },
  {
   "cell_type": "markdown",
   "id": "f8f6eb40",
   "metadata": {},
   "source": [
    "# tuple functions\n",
    " - count()    returns the count of the privided element\n",
    " - index()    return the index of the provided element"
   ]
  },
  {
   "cell_type": "markdown",
   "id": "0c2febcf",
   "metadata": {},
   "source": [
    "# Set\n",
    "   - A set is a type of collection that only hold unique values (no repeated values) \n",
    "   - A set is identifed by {}\n",
    "   "
   ]
  },
  {
   "cell_type": "code",
   "execution_count": 78,
   "id": "c818774b",
   "metadata": {},
   "outputs": [],
   "source": [
    "# creating a set\n",
    "aset={1,2,3,4,5,3,4,5}"
   ]
  },
  {
   "cell_type": "code",
   "execution_count": 79,
   "id": "7eb31fb1",
   "metadata": {},
   "outputs": [
    {
     "data": {
      "text/plain": [
       "set"
      ]
     },
     "execution_count": 79,
     "metadata": {},
     "output_type": "execute_result"
    }
   ],
   "source": [
    "type(aset)"
   ]
  },
  {
   "cell_type": "code",
   "execution_count": 80,
   "id": "fc1070a4",
   "metadata": {},
   "outputs": [],
   "source": [
    "# a list with duplicate values \n",
    "alist = [1,2,3,4,5,62,3,4,5]"
   ]
  },
  {
   "cell_type": "code",
   "execution_count": 81,
   "id": "c584dbef",
   "metadata": {},
   "outputs": [
    {
     "data": {
      "text/plain": [
       "[1, 2, 3, 4, 5, 62]"
      ]
     },
     "execution_count": 81,
     "metadata": {},
     "output_type": "execute_result"
    }
   ],
   "source": [
    "# type casting the list to drop all duplicates.\n",
    "# But result will be a set not list. \n",
    "# to convert it  again in list, again type cast it to list\n",
    "\n",
    "list(set(alist))"
   ]
  },
  {
   "cell_type": "markdown",
   "id": "4a796c7b",
   "metadata": {},
   "source": [
    "### Set functions"
   ]
  },
  {
   "cell_type": "raw",
   "id": "6bbd609d",
   "metadata": {},
   "source": [
    " - add()               >>add an element to set\n",
    " - clear()             >>Remove all elements from this set.\n",
    " - copy()              >>Return a copy of a set\n",
    " - difference()        >>Return the difference of two or more sets as a new set.\n",
    " - difference_update() >>Remove all elements of another set from this set\n",
    " - discard()           >>Remove an element from a set if it is a member.\n",
    " - intersection()      >>Return the intersection of two sets as a new set.\n",
    " - intersection_update >>Update a set with the intersection of itself and another.\n",
    " - is_disjoint()       >>Return True if two sets have a null intersection.\n",
    " - is_subset()         >>Report whether another set contains this set.\n",
    " - is_superset()       >>Report whether this set contains another set.\n",
    " - pop()               >>Remove and return an arbitrary set element.\n",
    " - remove()            >>Remove an element from a set; it must be a member.\n",
    " - union()             >>Return the union of sets as a new set.\n",
    " - update()            >>Update a set with the union of itself and others. "
   ]
  },
  {
   "cell_type": "code",
   "execution_count": 82,
   "id": "0db3f2fc",
   "metadata": {},
   "outputs": [
    {
     "data": {
      "text/plain": [
       "{1, 2, 3, 4, 5}"
      ]
     },
     "execution_count": 82,
     "metadata": {},
     "output_type": "execute_result"
    }
   ],
   "source": [
    "aset"
   ]
  },
  {
   "cell_type": "code",
   "execution_count": 83,
   "id": "8df9236b",
   "metadata": {},
   "outputs": [
    {
     "data": {
      "text/plain": [
       "{1, 2, 3, 4, 5, 52}"
      ]
     },
     "execution_count": 83,
     "metadata": {},
     "output_type": "execute_result"
    }
   ],
   "source": [
    "#add() >>add an element to set\n",
    "\n",
    "aset.add(52)\n",
    "aset"
   ]
  },
  {
   "cell_type": "code",
   "execution_count": 84,
   "id": "b637c6bc",
   "metadata": {},
   "outputs": [
    {
     "data": {
      "text/plain": [
       "{1, 2, 3, 4, 5, 52}"
      ]
     },
     "execution_count": 84,
     "metadata": {},
     "output_type": "execute_result"
    }
   ],
   "source": [
    "#copy() >>Return a copy of a set\n",
    "bset = aset.copy()\n",
    "bset"
   ]
  },
  {
   "cell_type": "code",
   "execution_count": 85,
   "id": "020ee70f",
   "metadata": {},
   "outputs": [
    {
     "data": {
      "text/plain": [
       "set()"
      ]
     },
     "execution_count": 85,
     "metadata": {},
     "output_type": "execute_result"
    }
   ],
   "source": [
    "#difference()  >>Return the difference of two or more sets as a new set.\n",
    "\n",
    "aset.difference(bset)"
   ]
  },
  {
   "cell_type": "code",
   "execution_count": 87,
   "id": "635fa6c1",
   "metadata": {},
   "outputs": [
    {
     "name": "stdout",
     "output_type": "stream",
     "text": [
      "{2, 3, 5, 11, 44, 52, 53}\n",
      "{1, 4}\n"
     ]
    }
   ],
   "source": [
    "#difference_update() >>Remove all elements of another set from this set permanently\n",
    "\n",
    "cset={11,2,3,44,5,52,53}\n",
    "dset = {1, 2, 3, 4, 5, 52}\n",
    "\n",
    "# put the difference between the two set into dset\n",
    "dset.difference_update(cset)\n",
    "\n",
    "print(cset)\n",
    "print(dset)"
   ]
  },
  {
   "cell_type": "code",
   "execution_count": 88,
   "id": "e2e6ead4",
   "metadata": {},
   "outputs": [
    {
     "name": "stdout",
     "output_type": "stream",
     "text": [
      "{'Oranges', 'Apples', 'Bananas', 'Gauvas', 'Mangoes'}\n",
      "{'Oranges', 'Apples', 'Bananas', 'Gauvas', 'Mangoes'}\n"
     ]
    }
   ],
   "source": [
    "#discard()           >>Remove an element PERMANEMTLY from a set if it is a member\n",
    "myset = {\"Apples\", \"Mangoes\", \"Oranges\", \"Peaches\", \"Bananas\", \"Gauvas\"}\n",
    "myset.discard(\"Peaches\")\n",
    "print(myset)\n",
    "\n",
    "# since berries are not in set, it will do nothing (will NOT throw error)\n",
    "myset.discard(\"Berries\")\n",
    "print(myset)"
   ]
  },
  {
   "cell_type": "code",
   "execution_count": 90,
   "id": "42eda781",
   "metadata": {},
   "outputs": [
    {
     "name": "stdout",
     "output_type": "stream",
     "text": [
      "{1, 2, 3, 4, 5, 52}\n",
      "{1, 4}\n",
      "{1, 4}\n",
      "{1, 4}\n"
     ]
    }
   ],
   "source": [
    "#intersection()      >>Return the intersection(common) of two sets as a new set.\n",
    "print(aset)\n",
    "print(dset)\n",
    "print(aset.intersection(dset))\n",
    "\n",
    "print(dset.intersection(aset))\n"
   ]
  },
  {
   "cell_type": "code",
   "execution_count": 93,
   "id": "97bd2b63",
   "metadata": {},
   "outputs": [
    {
     "name": "stdout",
     "output_type": "stream",
     "text": [
      "{1, 2, 3, 4, 5, 52}\n",
      "{1, 4}\n",
      "{1, 4}\n"
     ]
    }
   ],
   "source": [
    "#intersection_update()  >> Update a set with the intersection of itself and another.\n",
    "print(aset) \n",
    "\n",
    "print(dset)\n",
    "\n",
    "# put the instersection into bset\n",
    "dset.intersection_update(aset)\n",
    "\n",
    "print(dset)"
   ]
  },
  {
   "cell_type": "markdown",
   "id": "39b40de8",
   "metadata": {},
   "source": [
    "#### Implement other set function yourself......"
   ]
  },
  {
   "cell_type": "markdown",
   "id": "30c0c089",
   "metadata": {},
   "source": [
    "# Dictionary\n",
    "  - A dictionary is also a type of collection in python\n",
    "  - A dictionary works on key value pair\n",
    "  - There is no indexing in dictionary\n",
    "  - Dictionary is mutable"
   ]
  },
  {
   "cell_type": "code",
   "execution_count": 137,
   "id": "c5b993ad",
   "metadata": {},
   "outputs": [
    {
     "data": {
      "text/plain": [
       "dict"
      ]
     },
     "execution_count": 137,
     "metadata": {},
     "output_type": "execute_result"
    }
   ],
   "source": [
    "# Creating an empty doctionary\n",
    "empty_dictionary = {}\n",
    "\n",
    "type(empty_dictionary)"
   ]
  },
  {
   "cell_type": "code",
   "execution_count": 131,
   "id": "b1aa49d8",
   "metadata": {},
   "outputs": [
    {
     "name": "stdout",
     "output_type": "stream",
     "text": [
      "{'name': 'Ahmed Noor', 'age': 45, 'Designation': 'Manager', 'Department': 'Accounts and Finance'}\n"
     ]
    }
   ],
   "source": [
    "# creating a loaded dictionary\n",
    "\n",
    "emp1 = {'name': \"Ahmed Noor\", 'age':45, 'Designation':\"Manager\", \"Department\":\"Accounts and Finance\"}\n",
    "print(emp1)"
   ]
  },
  {
   "cell_type": "code",
   "execution_count": 132,
   "id": "580a2321",
   "metadata": {},
   "outputs": [
    {
     "data": {
      "text/plain": [
       "'Accounts and Finance'"
      ]
     },
     "execution_count": 132,
     "metadata": {},
     "output_type": "execute_result"
    }
   ],
   "source": [
    "# Accessing a dictionary item using a key\n",
    "\n",
    "emp1['Department']"
   ]
  },
  {
   "cell_type": "code",
   "execution_count": 133,
   "id": "3a7fb59d",
   "metadata": {},
   "outputs": [
    {
     "data": {
      "text/plain": [
       "'Manager'"
      ]
     },
     "execution_count": 133,
     "metadata": {},
     "output_type": "execute_result"
    }
   ],
   "source": [
    "# Accessing a dictionary item using a key (another way)\n",
    "emp1.get(\"Designation\")"
   ]
  },
  {
   "cell_type": "code",
   "execution_count": 134,
   "id": "7ef75e37",
   "metadata": {},
   "outputs": [
    {
     "name": "stdout",
     "output_type": "stream",
     "text": [
      "{'name': 'Ahmed Noor', 'age': 25, 'Designation': 'Manager', 'Department': 'Accounts and Finance'}\n"
     ]
    }
   ],
   "source": [
    "# Replacing a value again a specific key \n",
    "\n",
    "emp1['age'] = 25\n",
    "\n",
    "print(emp1)"
   ]
  },
  {
   "cell_type": "code",
   "execution_count": 135,
   "id": "e3adbb0c",
   "metadata": {},
   "outputs": [
    {
     "name": "stdout",
     "output_type": "stream",
     "text": [
      "{'name': 'Ahmed Noor', 'Designation': 'Manager', 'Department': 'Accounts and Finance'}\n"
     ]
    }
   ],
   "source": [
    "# Deleting with a key will delete the complete pair (key:value)\n",
    "\n",
    "del emp1['age']\n",
    "\n",
    "print(emp1)"
   ]
  },
  {
   "cell_type": "code",
   "execution_count": 138,
   "id": "7cc5ffe8",
   "metadata": {},
   "outputs": [
    {
     "data": {
      "text/plain": [
       "{}"
      ]
     },
     "execution_count": 138,
     "metadata": {},
     "output_type": "execute_result"
    }
   ],
   "source": [
    "empty_dictionary"
   ]
  },
  {
   "cell_type": "code",
   "execution_count": 139,
   "id": "f732361c",
   "metadata": {},
   "outputs": [
    {
     "name": "stdout",
     "output_type": "stream",
     "text": [
      "{'Course': 'Data Analytics', 'Days': 'Sat-Sun'}\n"
     ]
    }
   ],
   "source": [
    "# we can add more key:value pairs to empty or existing dictionary\n",
    "\n",
    "empty_dictionary['Course']= \"Data Analytics\"\n",
    "empty_dictionary['Days'] = \"Sat-Sun\"\n",
    "\n",
    "print(empty_dictionary)"
   ]
  },
  {
   "cell_type": "markdown",
   "id": "2985640e",
   "metadata": {},
   "source": [
    "# Dictionary functions\n",
    "    - clear()       >>> removes all elements(key:value) from dictionary\n",
    "    - copy()        >>> makes copy of dictionary\n",
    "    - get()         >>> takes a key and return it value\n",
    "    - keys()        >>> returns all keys present in the dictionary\n",
    "    - values()      >>> returns all the value present in the dictionary \n",
    "    - items()       >>> returns tuples containing key value  \n",
    "    - pop()         >>> takes a key and remove that key:value pair but return the deleted value \n",
    "    - pop_item()    >>> removes a complete key:value pair randomly from the dictionary"
   ]
  },
  {
   "cell_type": "code",
   "execution_count": 140,
   "id": "8b0c2b67",
   "metadata": {},
   "outputs": [
    {
     "name": "stdout",
     "output_type": "stream",
     "text": [
      "{'name': 'Ahmed Noor', 'Designation': 'Manager', 'Department': 'Accounts and Finance'}\n"
     ]
    }
   ],
   "source": [
    "emp2 = emp1.copy()\n",
    "print(emp2)"
   ]
  },
  {
   "cell_type": "code",
   "execution_count": 141,
   "id": "2b4e05d6",
   "metadata": {},
   "outputs": [
    {
     "data": {
      "text/plain": [
       "'Ahmed Noor'"
      ]
     },
     "execution_count": 141,
     "metadata": {},
     "output_type": "execute_result"
    }
   ],
   "source": [
    "emp1.get(\"name\")"
   ]
  },
  {
   "cell_type": "code",
   "execution_count": 142,
   "id": "33045f43",
   "metadata": {},
   "outputs": [
    {
     "data": {
      "text/plain": [
       "dict_keys(['name', 'Designation', 'Department'])"
      ]
     },
     "execution_count": 142,
     "metadata": {},
     "output_type": "execute_result"
    }
   ],
   "source": [
    "emp1.keys()"
   ]
  },
  {
   "cell_type": "code",
   "execution_count": 143,
   "id": "7446c96b",
   "metadata": {},
   "outputs": [
    {
     "data": {
      "text/plain": [
       "dict_values(['Ahmed Noor', 'Manager', 'Accounts and Finance'])"
      ]
     },
     "execution_count": 143,
     "metadata": {},
     "output_type": "execute_result"
    }
   ],
   "source": [
    "emp1.values()"
   ]
  },
  {
   "cell_type": "code",
   "execution_count": 144,
   "id": "125c63d6",
   "metadata": {},
   "outputs": [
    {
     "data": {
      "text/plain": [
       "dict_items([('name', 'Ahmed Noor'), ('Designation', 'Manager'), ('Department', 'Accounts and Finance')])"
      ]
     },
     "execution_count": 144,
     "metadata": {},
     "output_type": "execute_result"
    }
   ],
   "source": [
    "emp1.items()"
   ]
  },
  {
   "cell_type": "code",
   "execution_count": 145,
   "id": "7b451ffd",
   "metadata": {},
   "outputs": [
    {
     "data": {
      "text/plain": [
       "'Ahmed Noor'"
      ]
     },
     "execution_count": 145,
     "metadata": {},
     "output_type": "execute_result"
    }
   ],
   "source": [
    "emp1.pop(\"name\")"
   ]
  },
  {
   "cell_type": "code",
   "execution_count": 146,
   "id": "d2503738",
   "metadata": {},
   "outputs": [
    {
     "data": {
      "text/plain": [
       "('Department', 'Accounts and Finance')"
      ]
     },
     "execution_count": 146,
     "metadata": {},
     "output_type": "execute_result"
    }
   ],
   "source": [
    "emp1.popitem()"
   ]
  },
  {
   "cell_type": "code",
   "execution_count": 147,
   "id": "f7574686",
   "metadata": {},
   "outputs": [
    {
     "data": {
      "text/plain": [
       "{'Designation': 'Manager'}"
      ]
     },
     "execution_count": 147,
     "metadata": {},
     "output_type": "execute_result"
    }
   ],
   "source": [
    "emp1"
   ]
  },
  {
   "cell_type": "code",
   "execution_count": null,
   "id": "df8f827b",
   "metadata": {},
   "outputs": [],
   "source": []
  },
  {
   "cell_type": "code",
   "execution_count": null,
   "id": "1550ce49",
   "metadata": {},
   "outputs": [],
   "source": []
  }
 ],
 "metadata": {
  "kernelspec": {
   "display_name": "Python 3",
   "language": "python",
   "name": "python3"
  },
  "language_info": {
   "codemirror_mode": {
    "name": "ipython",
    "version": 3
   },
   "file_extension": ".py",
   "mimetype": "text/x-python",
   "name": "python",
   "nbconvert_exporter": "python",
   "pygments_lexer": "ipython3",
   "version": "3.7.4"
  }
 },
 "nbformat": 4,
 "nbformat_minor": 5
}
