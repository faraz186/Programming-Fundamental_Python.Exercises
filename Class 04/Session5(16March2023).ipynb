{
 "cells": [
  {
   "cell_type": "markdown",
   "id": "e0d1023e",
   "metadata": {},
   "source": [
    "# Nested if's"
   ]
  },
  {
   "cell_type": "code",
   "execution_count": 16,
   "id": "3de25962",
   "metadata": {},
   "outputs": [
    {
     "name": "stdout",
     "output_type": "stream",
     "text": [
      "What brand of shirt you want to buyer\n",
      "Sorry we dont have er brand\n"
     ]
    }
   ],
   "source": [
    "store = [{'brand':'Polo', 'sizes':['S',\"M\",\"L\", 'XL'],'colors':[\"Navy\",\"Black\", 'Red',\"Blue\"],'price':1500},\n",
    "        {'brand':'Bonanze', 'sizes':[\"M\",\"L\", 'XL'],'colors':[\"Navy\",\"Grey\", 'Red',\"Blue\"],'price':1000},\n",
    "        {'brand':'Outfitters', 'sizes':['S',\"M\",\"L\"],'colors':[\"Navy\",\"Black\", 'Green',\"Blue\"],'price':2000},\n",
    "        {'brand':'Dinners', 'sizes':['S',\"M\",\"L\", 'XL'],'colors':[\"Navy\",\"Black\", 'Red',\"Blue\"],'price':1300},\n",
    "        {'brand':'Levis', 'sizes':['S',\"M\",\"L\", 'XL'],'colors':[\"Grey\",\"Black\", 'Red',\"Blue\"],'price':1500}] \n",
    "\n",
    "brand = input(\"What brand of shirt you want to buy\").lower()\n",
    "if brand == \"polo\":\n",
    "    size  = input(\"Please tell me your size\").lower()\n",
    "\n",
    "    if size == \"m\":\n",
    "        color = input(\"What color you would like to buy?\").lower()       \n",
    "\n",
    "        if color==\"black\":\n",
    "            price = float(input(\"what is the price?\"))\n",
    "            \n",
    "            if price <= 1000:\n",
    "                print(\"Thank you sir here is your shirt\")\n",
    "            else:\n",
    "                print(\"I dont have this much budget\")\n",
    "        else:\n",
    "            print(f\"Sorry we dont have {color} in {size} and {brand} brand\")\n",
    "    else:\n",
    "        print(f\"Sorry we dont have {size} in {brand} brand\")\n"
   ]
  },
  {
   "cell_type": "raw",
   "id": "ad61e688",
   "metadata": {},
   "source": [
    "# LOOPS\n",
    "       - For in loop\n",
    "       - While Loop"
   ]
  },
  {
   "cell_type": "code",
   "execution_count": 30,
   "id": "0390315f",
   "metadata": {},
   "outputs": [],
   "source": [
    "store = [{'brand':'Polo', 'sizes':['S',\"M\",\"L\", 'XL'],'colors':[\"Navy\",\"Black\", 'Red',\"Blue\"],'price':1500},\n",
    "        {'brand':'Bonanze', 'sizes':[\"M\",\"L\", 'XL'],'colors':[\"Navy\",\"Grey\", 'Red',\"Blue\"],'price':1000},\n",
    "        {'brand':'Outfitters', 'sizes':['S',\"M\",\"L\"],'colors':[\"Navy\",\"Black\", 'Green',\"Blue\"],'price':2000},\n",
    "        {'brand':'Dinners', 'sizes':['S',\"M\",\"L\", 'XL'],'colors':[\"Navy\",\"Black\", 'Red',\"Blue\"],'price':1300},\n",
    "        {'brand':'Levis', 'sizes':['S',\"M\",\"L\", 'XL'],'colors':[\"Grey\",\"Black\", 'Red',\"Blue\"],'price':1500}] "
   ]
  },
  {
   "cell_type": "code",
   "execution_count": 32,
   "id": "2ce86d50",
   "metadata": {},
   "outputs": [
    {
     "name": "stdout",
     "output_type": "stream",
     "text": [
      "enter brandpolo\n",
      "Enter your sizeXXL\n",
      "Size not avaiable\n",
      "Bhai kia dhond raha hy\n"
     ]
    }
   ],
   "source": [
    "brand = input(\"enter brand\").title()\n",
    "for item in store: \n",
    "#     print(item)\n",
    "    if item['brand']==brand:\n",
    "        \n",
    "        size = input(\"Enter your size\").title()\n",
    "        if size in item['sizes']:\n",
    "            \n",
    "            color = input(\"Enter your color \").title()          \n",
    "            if color in item['colors']:\n",
    "                \n",
    "                price = float(input(\"Enter price\"))\n",
    "                if item['price'] <= price:\n",
    "                    print(\"Your item is here\")\n",
    "                    \n",
    "                else:\n",
    "                    print(\"Sorry we cant make as much discount\")                \n",
    "                \n",
    "            else:\n",
    "                print(\"Color not avialble\")        \n",
    "        else:\n",
    "            print(\"Size not avaiable\")\n",
    "else:\n",
    "    print(\"Bhai kia dhond raha hy\")"
   ]
  },
  {
   "cell_type": "markdown",
   "id": "ff5e8d03",
   "metadata": {},
   "source": [
    "# Continue and Break "
   ]
  },
  {
   "cell_type": "code",
   "execution_count": 38,
   "id": "5dabafbf",
   "metadata": {},
   "outputs": [
    {
     "name": "stdout",
     "output_type": "stream",
     "text": [
      "0123456789"
     ]
    }
   ],
   "source": [
    "for num in range(10):\n",
    "    print(num,end='')\n",
    "    "
   ]
  },
  {
   "cell_type": "code",
   "execution_count": 39,
   "id": "c83e1e47",
   "metadata": {},
   "outputs": [
    {
     "name": "stdout",
     "output_type": "stream",
     "text": [
      "123456789"
     ]
    }
   ],
   "source": [
    "for num in range(1,10):\n",
    "    print(num,end='')\n",
    "    "
   ]
  },
  {
   "cell_type": "code",
   "execution_count": 40,
   "id": "87af4f46",
   "metadata": {},
   "outputs": [
    {
     "name": "stdout",
     "output_type": "stream",
     "text": [
      "13579"
     ]
    }
   ],
   "source": [
    "for num in range(1,10,2):\n",
    "    print(num, end='')"
   ]
  },
  {
   "cell_type": "code",
   "execution_count": 41,
   "id": "f155dd2b",
   "metadata": {},
   "outputs": [
    {
     "name": "stdout",
     "output_type": "stream",
     "text": [
      "02468"
     ]
    }
   ],
   "source": [
    "for num in range(0,10,2):\n",
    "    print(num, end='')"
   ]
  },
  {
   "cell_type": "code",
   "execution_count": 43,
   "id": "a2544dbf",
   "metadata": {},
   "outputs": [
    {
     "name": "stdout",
     "output_type": "stream",
     "text": [
      "20,18,16,14,12,10,8,6,4,2,"
     ]
    }
   ],
   "source": [
    "for num in range(20,1,-2):\n",
    "    print(num,end=',')"
   ]
  },
  {
   "cell_type": "code",
   "execution_count": 44,
   "id": "a0bcfca4",
   "metadata": {},
   "outputs": [
    {
     "name": "stdout",
     "output_type": "stream",
     "text": [
      "20,18,16,14,12,"
     ]
    }
   ],
   "source": [
    "for num in range(20,1,-2):\n",
    "    if num == 10:\n",
    "        break\n",
    "    print(num,end=',')"
   ]
  },
  {
   "cell_type": "code",
   "execution_count": 49,
   "id": "aec7e809",
   "metadata": {},
   "outputs": [
    {
     "name": "stdout",
     "output_type": "stream",
     "text": [
      "20 18 16 14 12 8 6 4 2 "
     ]
    }
   ],
   "source": [
    "for num in range(20,1,-2):\n",
    "    if num == 10:\n",
    "        continue\n",
    "    print(num,end=\" \")"
   ]
  },
  {
   "cell_type": "code",
   "execution_count": 57,
   "id": "5e49d4b0",
   "metadata": {},
   "outputs": [],
   "source": [
    "for a in \"SMIT\":\n",
    "    pass\n",
    "   \n",
    "a = 10 "
   ]
  },
  {
   "cell_type": "code",
   "execution_count": 60,
   "id": "bd376516",
   "metadata": {},
   "outputs": [
    {
     "name": "stdout",
     "output_type": "stream",
     "text": [
      "Enter your friends name or quit to exita\n",
      "Enter your friends name or quit to exitb\n",
      "Enter your friends name or quit to exitc\n",
      "Enter your friends name or quit to exitd\n",
      "Enter your friends name or quit to exite\n",
      "['a', 'b', 'c', 'd', 'e']\n"
     ]
    }
   ],
   "source": [
    "friends = []\n",
    "for a in range(5):\n",
    "    friend_name = input(\"Enter your friends name or quit to exit\").lower()\n",
    "    if friend_name == \"quit\":\n",
    "        break\n",
    "    friends.append(friend_name)\n",
    "print(friends)"
   ]
  },
  {
   "cell_type": "code",
   "execution_count": 62,
   "id": "5ec8b8f5",
   "metadata": {},
   "outputs": [
    {
     "name": "stdout",
     "output_type": "stream",
     "text": [
      "0\n",
      "1\n",
      "2\n",
      "3\n",
      "4\n",
      "5\n",
      "6\n",
      "7\n",
      "8\n",
      "9\n"
     ]
    }
   ],
   "source": [
    "a  = 0\n",
    "while a < 10:\n",
    "    print(a)\n",
    "#     a=a+1\n",
    "    a+=1"
   ]
  },
  {
   "cell_type": "code",
   "execution_count": 64,
   "id": "41768ca3",
   "metadata": {},
   "outputs": [
    {
     "name": "stdout",
     "output_type": "stream",
     "text": [
      "Enter your friends name or quit to exitquit\n",
      "[]\n"
     ]
    }
   ],
   "source": [
    "flag = True\n",
    "friends=[]\n",
    "while flag:\n",
    "    friend_name = input(\"Enter your friends name or quit to exit\").lower()\n",
    "    if friend_name != \"quit\":\n",
    "        friends.append(friend_name)\n",
    "    else:\n",
    "        flag =False\n",
    "    \n",
    "print(friends)   "
   ]
  },
  {
   "cell_type": "code",
   "execution_count": 65,
   "id": "2bd23415",
   "metadata": {},
   "outputs": [
    {
     "name": "stdout",
     "output_type": "stream",
     "text": [
      "Enter your friends name or quit to exitnasir\n",
      "Enter your friends name or quit to exitasad\n",
      "Enter your friends name or quit to exitfajd\n",
      "Enter your friends name or quit to exitquit\n",
      "['nasir', 'asad', 'fajd']\n"
     ]
    }
   ],
   "source": [
    "friends=[]\n",
    "while True:\n",
    "    friend_name = input(\"Enter your friends name or quit to exit\").lower()\n",
    "    if friend_name != \"quit\":\n",
    "        friends.append(friend_name)\n",
    "    else:\n",
    "        break\n",
    "    \n",
    "print(friends)   "
   ]
  }
 ],
 "metadata": {
  "kernelspec": {
   "display_name": "Python 3 (ipykernel)",
   "language": "python",
   "name": "python3"
  },
  "language_info": {
   "codemirror_mode": {
    "name": "ipython",
    "version": 3
   },
   "file_extension": ".py",
   "mimetype": "text/x-python",
   "name": "python",
   "nbconvert_exporter": "python",
   "pygments_lexer": "ipython3",
   "version": "3.11.1"
  }
 },
 "nbformat": 4,
 "nbformat_minor": 5
}
